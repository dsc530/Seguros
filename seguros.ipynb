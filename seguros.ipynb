{
 "cells": [
  {
   "cell_type": "markdown",
   "metadata": {},
   "source": [
    "# Descripción"
   ]
  },
  {
   "cell_type": "markdown",
   "metadata": {},
   "source": [
    "La compañía de seguros Sure Tomorrow quiere cumplir los siguientes objetivos:\n",
    "\n",
    "- Encontrar clientes que sean similares a un cliente determinado. Esto ayudará a los agentes de la compañía con el marketing.\n",
    "- Predecir la probabilidad de que un nuevo cliente reciba una prestación del seguro. ¿Puede un modelo de predictivo funcionar mejor que un modelo dummy?\n",
    "- Predecir el número de prestaciones de seguro que un nuevo cliente pueda recibir utilizando un modelo de regresión lineal.\n",
    "- Proteger los datos personales de los clientes. Es necesario desarrollar un algoritmo de transformación de datos que dificulte la recuperación de la información personal si los datos caen en manos equivocadas."
   ]
  },
  {
   "cell_type": "markdown",
   "metadata": {},
   "source": [
    "## Preprocesamiento y exploración de datos\n",
    "\n",
    "### Inicialización"
   ]
  },
  {
   "cell_type": "code",
   "execution_count": null,
   "metadata": {},
   "outputs": [],
   "source": [
    "pip install scikit-learn --upgrade"
   ]
  },
  {
   "cell_type": "code",
   "execution_count": 2,
   "metadata": {},
   "outputs": [],
   "source": [
    "import numpy as np\n",
    "import pandas as pd\n",
    "import math\n",
    "import seaborn as sns\n",
    "\n",
    "import sklearn.linear_model\n",
    "import sklearn.metrics\n",
    "from sklearn.neighbors import NearestNeighbors\n",
    "from sklearn.neighbors import KNeighborsClassifier\n",
    "import sklearn.preprocessing\n",
    "\n",
    "from sklearn.model_selection import train_test_split\n",
    "\n",
    "from IPython.display import display"
   ]
  },
  {
   "cell_type": "markdown",
   "metadata": {},
   "source": [
    "### Carga de datos"
   ]
  },
  {
   "cell_type": "markdown",
   "metadata": {},
   "source": [
    "Revisión básica para comprobar que no hay problemas obvios."
   ]
  },
  {
   "cell_type": "code",
   "execution_count": 3,
   "metadata": {},
   "outputs": [],
   "source": [
    "df = pd.read_csv('/datasets/insurance_us.csv')"
   ]
  },
  {
   "cell_type": "markdown",
   "metadata": {},
   "source": [
    "Renombramos las columnas para que el código se vea más coherente."
   ]
  },
  {
   "cell_type": "code",
   "execution_count": 4,
   "metadata": {},
   "outputs": [],
   "source": [
    "df = df.rename(columns={'Gender': 'gender', 'Age': 'age', 'Salary': 'income', 'Family members': 'family_members', 'Insurance benefits': 'insurance_benefits'})"
   ]
  },
  {
   "cell_type": "code",
   "execution_count": 5,
   "metadata": {},
   "outputs": [
    {
     "data": {
      "text/html": [
       "<div>\n",
       "<style scoped>\n",
       "    .dataframe tbody tr th:only-of-type {\n",
       "        vertical-align: middle;\n",
       "    }\n",
       "\n",
       "    .dataframe tbody tr th {\n",
       "        vertical-align: top;\n",
       "    }\n",
       "\n",
       "    .dataframe thead th {\n",
       "        text-align: right;\n",
       "    }\n",
       "</style>\n",
       "<table border=\"1\" class=\"dataframe\">\n",
       "  <thead>\n",
       "    <tr style=\"text-align: right;\">\n",
       "      <th></th>\n",
       "      <th>gender</th>\n",
       "      <th>age</th>\n",
       "      <th>income</th>\n",
       "      <th>family_members</th>\n",
       "      <th>insurance_benefits</th>\n",
       "    </tr>\n",
       "  </thead>\n",
       "  <tbody>\n",
       "    <tr>\n",
       "      <th>1363</th>\n",
       "      <td>1</td>\n",
       "      <td>29.0</td>\n",
       "      <td>44200.0</td>\n",
       "      <td>2</td>\n",
       "      <td>0</td>\n",
       "    </tr>\n",
       "    <tr>\n",
       "      <th>3389</th>\n",
       "      <td>1</td>\n",
       "      <td>28.0</td>\n",
       "      <td>42000.0</td>\n",
       "      <td>1</td>\n",
       "      <td>0</td>\n",
       "    </tr>\n",
       "    <tr>\n",
       "      <th>2933</th>\n",
       "      <td>0</td>\n",
       "      <td>25.0</td>\n",
       "      <td>48800.0</td>\n",
       "      <td>1</td>\n",
       "      <td>0</td>\n",
       "    </tr>\n",
       "    <tr>\n",
       "      <th>4361</th>\n",
       "      <td>1</td>\n",
       "      <td>20.0</td>\n",
       "      <td>34100.0</td>\n",
       "      <td>0</td>\n",
       "      <td>0</td>\n",
       "    </tr>\n",
       "    <tr>\n",
       "      <th>4553</th>\n",
       "      <td>1</td>\n",
       "      <td>25.0</td>\n",
       "      <td>39700.0</td>\n",
       "      <td>2</td>\n",
       "      <td>0</td>\n",
       "    </tr>\n",
       "    <tr>\n",
       "      <th>4574</th>\n",
       "      <td>1</td>\n",
       "      <td>30.0</td>\n",
       "      <td>25500.0</td>\n",
       "      <td>0</td>\n",
       "      <td>0</td>\n",
       "    </tr>\n",
       "    <tr>\n",
       "      <th>1005</th>\n",
       "      <td>1</td>\n",
       "      <td>34.0</td>\n",
       "      <td>21500.0</td>\n",
       "      <td>1</td>\n",
       "      <td>0</td>\n",
       "    </tr>\n",
       "    <tr>\n",
       "      <th>2099</th>\n",
       "      <td>1</td>\n",
       "      <td>25.0</td>\n",
       "      <td>23500.0</td>\n",
       "      <td>0</td>\n",
       "      <td>0</td>\n",
       "    </tr>\n",
       "    <tr>\n",
       "      <th>4229</th>\n",
       "      <td>0</td>\n",
       "      <td>33.0</td>\n",
       "      <td>34300.0</td>\n",
       "      <td>0</td>\n",
       "      <td>0</td>\n",
       "    </tr>\n",
       "    <tr>\n",
       "      <th>980</th>\n",
       "      <td>0</td>\n",
       "      <td>35.0</td>\n",
       "      <td>41500.0</td>\n",
       "      <td>3</td>\n",
       "      <td>0</td>\n",
       "    </tr>\n",
       "  </tbody>\n",
       "</table>\n",
       "</div>"
      ],
      "text/plain": [
       "      gender   age   income  family_members  insurance_benefits\n",
       "1363       1  29.0  44200.0               2                   0\n",
       "3389       1  28.0  42000.0               1                   0\n",
       "2933       0  25.0  48800.0               1                   0\n",
       "4361       1  20.0  34100.0               0                   0\n",
       "4553       1  25.0  39700.0               2                   0\n",
       "4574       1  30.0  25500.0               0                   0\n",
       "1005       1  34.0  21500.0               1                   0\n",
       "2099       1  25.0  23500.0               0                   0\n",
       "4229       0  33.0  34300.0               0                   0\n",
       "980        0  35.0  41500.0               3                   0"
      ]
     },
     "execution_count": 5,
     "metadata": {},
     "output_type": "execute_result"
    }
   ],
   "source": [
    "df.sample(10)"
   ]
  },
  {
   "cell_type": "code",
   "execution_count": 6,
   "metadata": {},
   "outputs": [
    {
     "name": "stdout",
     "output_type": "stream",
     "text": [
      "<class 'pandas.core.frame.DataFrame'>\n",
      "RangeIndex: 5000 entries, 0 to 4999\n",
      "Data columns (total 5 columns):\n",
      " #   Column              Non-Null Count  Dtype  \n",
      "---  ------              --------------  -----  \n",
      " 0   gender              5000 non-null   int64  \n",
      " 1   age                 5000 non-null   float64\n",
      " 2   income              5000 non-null   float64\n",
      " 3   family_members      5000 non-null   int64  \n",
      " 4   insurance_benefits  5000 non-null   int64  \n",
      "dtypes: float64(2), int64(3)\n",
      "memory usage: 195.4 KB\n"
     ]
    }
   ],
   "source": [
    "df.info()"
   ]
  },
  {
   "cell_type": "code",
   "execution_count": null,
   "metadata": {},
   "outputs": [],
   "source": [
    "# cambiar el tipo de edad (de float a int) \n",
    "df['age'] = df['age'].astype(int)"
   ]
  },
  {
   "cell_type": "code",
   "execution_count": null,
   "metadata": {},
   "outputs": [
    {
     "name": "stdout",
     "output_type": "stream",
     "text": [
      "<class 'pandas.core.frame.DataFrame'>\n",
      "RangeIndex: 5000 entries, 0 to 4999\n",
      "Data columns (total 5 columns):\n",
      " #   Column              Non-Null Count  Dtype  \n",
      "---  ------              --------------  -----  \n",
      " 0   gender              5000 non-null   int64  \n",
      " 1   age                 5000 non-null   int64  \n",
      " 2   income              5000 non-null   float64\n",
      " 3   family_members      5000 non-null   int64  \n",
      " 4   insurance_benefits  5000 non-null   int64  \n",
      "dtypes: float64(1), int64(4)\n",
      "memory usage: 195.4 KB\n"
     ]
    }
   ],
   "source": [
    "# compruebación de conversión\n",
    "df.info()"
   ]
  },
  {
   "cell_type": "code",
   "execution_count": null,
   "metadata": {},
   "outputs": [
    {
     "data": {
      "text/plain": [
       "0    2505\n",
       "1    2495\n",
       "Name: gender, dtype: int64"
      ]
     },
     "execution_count": 9,
     "metadata": {},
     "output_type": "execute_result"
    }
   ],
   "source": [
    "# estadísticas descriptivas de los datos\n",
    "df['gender'].value_counts()"
   ]
  },
  {
   "cell_type": "markdown",
   "metadata": {},
   "source": [
    "**Columna Edad**"
   ]
  },
  {
   "cell_type": "code",
   "execution_count": 10,
   "metadata": {},
   "outputs": [
    {
     "data": {
      "text/plain": [
       "count    5000.000000\n",
       "mean       30.952800\n",
       "std         8.440807\n",
       "min        18.000000\n",
       "25%        24.000000\n",
       "50%        30.000000\n",
       "75%        37.000000\n",
       "max        65.000000\n",
       "Name: age, dtype: float64"
      ]
     },
     "execution_count": 10,
     "metadata": {},
     "output_type": "execute_result"
    }
   ],
   "source": [
    "df['age'].describe()"
   ]
  },
  {
   "cell_type": "code",
   "execution_count": 11,
   "metadata": {
    "scrolled": false
   },
   "outputs": [
    {
     "data": {
      "text/plain": [
       "<AxesSubplot:>"
      ]
     },
     "execution_count": 11,
     "metadata": {},
     "output_type": "execute_result"
    },
    {
     "data": {
      "image/png": "[encoded data removed]",
      "text/plain": [
       "<Figure size 640x480 with 1 Axes>"
      ]
     },
     "metadata": {},
     "output_type": "display_data"
    }
   ],
   "source": [
    "df['age'].plot(kind='box')"
   ]
  },
  {
   "cell_type": "code",
   "execution_count": 12,
   "metadata": {},
   "outputs": [
    {
     "data": {
      "text/plain": [
       "56    5\n",
       "59    3\n",
       "57    2\n",
       "58    2\n",
       "60    2\n",
       "65    1\n",
       "61    1\n",
       "62    1\n",
       "Name: age, dtype: int64"
      ]
     },
     "execution_count": 12,
     "metadata": {},
     "output_type": "execute_result"
    }
   ],
   "source": [
    "df[df['age']>55]['age'].value_counts()"
   ]
  },
  {
   "cell_type": "markdown",
   "metadata": {},
   "source": [
    "**Columna Ingresos**"
   ]
  },
  {
   "cell_type": "code",
   "execution_count": 13,
   "metadata": {
    "scrolled": true
   },
   "outputs": [
    {
     "data": {
      "text/plain": [
       "count     5000.000000\n",
       "mean     39916.360000\n",
       "std       9900.083569\n",
       "min       5300.000000\n",
       "25%      33300.000000\n",
       "50%      40200.000000\n",
       "75%      46600.000000\n",
       "max      79000.000000\n",
       "Name: income, dtype: float64"
      ]
     },
     "execution_count": 13,
     "metadata": {},
     "output_type": "execute_result"
    }
   ],
   "source": [
    "df['income'].describe()"
   ]
  },
  {
   "cell_type": "code",
   "execution_count": 14,
   "metadata": {
    "scrolled": false
   },
   "outputs": [
    {
     "data": {
      "text/plain": [
       "<AxesSubplot:>"
      ]
     },
     "execution_count": 14,
     "metadata": {},
     "output_type": "execute_result"
    },
    {
     "data": {
      "image/png": "[encoded data removed]",
      "text/plain": [
       "<Figure size 640x480 with 1 Axes>"
      ]
     },
     "metadata": {},
     "output_type": "display_data"
    }
   ],
   "source": [
    "df['income'].plot(kind='box')"
   ]
  },
  {
   "cell_type": "markdown",
   "metadata": {},
   "source": [
    "**Columna Familiares**"
   ]
  },
  {
   "cell_type": "code",
   "execution_count": 15,
   "metadata": {},
   "outputs": [
    {
     "data": {
      "text/plain": [
       "count    5000.000000\n",
       "mean        1.194200\n",
       "std         1.091387\n",
       "min         0.000000\n",
       "25%         0.000000\n",
       "50%         1.000000\n",
       "75%         2.000000\n",
       "max         6.000000\n",
       "Name: family_members, dtype: float64"
      ]
     },
     "execution_count": 15,
     "metadata": {},
     "output_type": "execute_result"
    }
   ],
   "source": [
    "df['family_members'].describe()"
   ]
  },
  {
   "cell_type": "code",
   "execution_count": 16,
   "metadata": {
    "scrolled": true
   },
   "outputs": [
    {
     "data": {
      "text/plain": [
       "<AxesSubplot:>"
      ]
     },
     "execution_count": 16,
     "metadata": {},
     "output_type": "execute_result"
    },
    {
     "data": {
      "image/png": "[encoded data removed]",
      "text/plain": [
       "<Figure size 640x480 with 1 Axes>"
      ]
     },
     "metadata": {},
     "output_type": "display_data"
    }
   ],
   "source": [
    "df['family_members'].plot(kind='box')"
   ]
  },
  {
   "cell_type": "code",
   "execution_count": 17,
   "metadata": {},
   "outputs": [
    {
     "data": {
      "text/plain": [
       "1    1814\n",
       "0    1513\n",
       "2    1071\n",
       "3     439\n",
       "4     124\n",
       "5      32\n",
       "6       7\n",
       "Name: family_members, dtype: int64"
      ]
     },
     "execution_count": 17,
     "metadata": {},
     "output_type": "execute_result"
    }
   ],
   "source": [
    "df['family_members'].value_counts()"
   ]
  },
  {
   "cell_type": "markdown",
   "metadata": {},
   "source": [
    "Existen diferentes cantidades de valores atípicos para las características: `age` `income` `family_members`. Con mayor cantidad de datos extremos en income."
   ]
  },
  {
   "cell_type": "markdown",
   "metadata": {},
   "source": [
    "## Análisis exploratorio de datos"
   ]
  },
  {
   "cell_type": "markdown",
   "metadata": {},
   "source": [
    "Vamos a comprobar rápidamente si existen determinados grupos de clientes observando el gráfico de pares."
   ]
  },
  {
   "cell_type": "code",
   "execution_count": 18,
   "metadata": {},
   "outputs": [
    {
     "data": {
      "image/png": "[encoded data removed]",
      "text/plain": [
       "<Figure size 1200x1200 with 30 Axes>"
      ]
     },
     "metadata": {},
     "output_type": "display_data"
    }
   ],
   "source": [
    "g = sns.pairplot(df, kind='hist')\n",
    "g.fig.set_size_inches(12, 12)"
   ]
  },
  {
   "cell_type": "markdown",
   "metadata": {},
   "source": [
    "##  Clientes similares"
   ]
  },
  {
   "cell_type": "markdown",
   "metadata": {},
   "source": [
    "Buscar los k vecinos más cercanos basándose en la distancia entre los objetos.\n",
    "Para resolver la tarea, podemos probar diferentes métricas de distancia."
   ]
  },
  {
   "cell_type": "markdown",
   "metadata": {},
   "source": [
    "Escribir una función que devuelva los k vecinos más cercanos para un $n^{th}$ objeto basándose en una métrica de distancia especificada. Para ello vamos a:\n",
    "\n",
    "- Escalado con MaxAbsScaler\n",
    "- Usar métricas de distancia:\n",
    "  - Euclidiana\n",
    "  - Manhattan"
   ]
  },
  {
   "cell_type": "code",
   "execution_count": 19,
   "metadata": {},
   "outputs": [],
   "source": [
    "feature_names = ['gender', 'age', 'income', 'family_members']"
   ]
  },
  {
   "cell_type": "code",
   "execution_count": 20,
   "metadata": {},
   "outputs": [],
   "source": [
    "def get_knn(df, n, k, metric):\n",
    "    \n",
    "    \"\"\"\n",
    "    Devuelve los k vecinos más cercanos\n",
    "\n",
    "    :param df: DataFrame de pandas utilizado para encontrar objetos similares dentro del mismo lugar    :param n: número de objetos para los que se buscan los vecinos más cercanos    :param k: número de vecinos más cercanos a devolver\n",
    "    :param métrica: nombre de la métrica de distancia    \"\"\"\n",
    "    \n",
    "           \n",
    "    nbrs = NearestNeighbors(n_neighbors=3, algorithm='auto', metric=metric)\n",
    "    nbrs.fit(df[feature_names])\n",
    "    nbrs_distances, nbrs_indices = nbrs.kneighbors([df.iloc[n][feature_names]], k, return_distance=True)\n",
    "    \n",
    "    df_res = pd.concat([\n",
    "        df.iloc[nbrs_indices[0]], \n",
    "        pd.DataFrame(nbrs_distances.T, index=nbrs_indices[0], columns=['distance'])\n",
    "        ], axis=1)\n",
    "    \n",
    "    return df_res"
   ]
  },
  {
   "cell_type": "markdown",
   "metadata": {},
   "source": [
    "Escalar datos."
   ]
  },
  {
   "cell_type": "code",
   "execution_count": 21,
   "metadata": {},
   "outputs": [],
   "source": [
    "feature_names = ['gender', 'age', 'income', 'family_members']\n",
    "\n",
    "transformer_mas = sklearn.preprocessing.MaxAbsScaler().fit(df[feature_names].to_numpy())\n",
    "\n",
    "df_scaled = df.copy()\n",
    "df_scaled.loc[:, feature_names] = transformer_mas.transform(df[feature_names].to_numpy())"
   ]
  },
  {
   "cell_type": "code",
   "execution_count": 22,
   "metadata": {},
   "outputs": [
    {
     "data": {
      "text/html": [
       "<div>\n",
       "<style scoped>\n",
       "    .dataframe tbody tr th:only-of-type {\n",
       "        vertical-align: middle;\n",
       "    }\n",
       "\n",
       "    .dataframe tbody tr th {\n",
       "        vertical-align: top;\n",
       "    }\n",
       "\n",
       "    .dataframe thead th {\n",
       "        text-align: right;\n",
       "    }\n",
       "</style>\n",
       "<table border=\"1\" class=\"dataframe\">\n",
       "  <thead>\n",
       "    <tr style=\"text-align: right;\">\n",
       "      <th></th>\n",
       "      <th>gender</th>\n",
       "      <th>age</th>\n",
       "      <th>income</th>\n",
       "      <th>family_members</th>\n",
       "      <th>insurance_benefits</th>\n",
       "    </tr>\n",
       "  </thead>\n",
       "  <tbody>\n",
       "    <tr>\n",
       "      <th>2562</th>\n",
       "      <td>1.0</td>\n",
       "      <td>0.430769</td>\n",
       "      <td>0.429114</td>\n",
       "      <td>0.166667</td>\n",
       "      <td>0</td>\n",
       "    </tr>\n",
       "    <tr>\n",
       "      <th>799</th>\n",
       "      <td>0.0</td>\n",
       "      <td>0.353846</td>\n",
       "      <td>0.403797</td>\n",
       "      <td>0.166667</td>\n",
       "      <td>0</td>\n",
       "    </tr>\n",
       "    <tr>\n",
       "      <th>1863</th>\n",
       "      <td>0.0</td>\n",
       "      <td>0.707692</td>\n",
       "      <td>0.492405</td>\n",
       "      <td>0.166667</td>\n",
       "      <td>1</td>\n",
       "    </tr>\n",
       "    <tr>\n",
       "      <th>4583</th>\n",
       "      <td>0.0</td>\n",
       "      <td>0.461538</td>\n",
       "      <td>0.558228</td>\n",
       "      <td>0.500000</td>\n",
       "      <td>0</td>\n",
       "    </tr>\n",
       "    <tr>\n",
       "      <th>521</th>\n",
       "      <td>0.0</td>\n",
       "      <td>0.400000</td>\n",
       "      <td>0.487342</td>\n",
       "      <td>0.333333</td>\n",
       "      <td>0</td>\n",
       "    </tr>\n",
       "  </tbody>\n",
       "</table>\n",
       "</div>"
      ],
      "text/plain": [
       "      gender       age    income  family_members  insurance_benefits\n",
       "2562     1.0  0.430769  0.429114        0.166667                   0\n",
       "799      0.0  0.353846  0.403797        0.166667                   0\n",
       "1863     0.0  0.707692  0.492405        0.166667                   1\n",
       "4583     0.0  0.461538  0.558228        0.500000                   0\n",
       "521      0.0  0.400000  0.487342        0.333333                   0"
      ]
     },
     "execution_count": 22,
     "metadata": {},
     "output_type": "execute_result"
    }
   ],
   "source": [
    "df_scaled.sample(5)"
   ]
  },
  {
   "cell_type": "markdown",
   "metadata": {},
   "source": [
    "Obtener registros similares para uno determinado, para cada combinación"
   ]
  },
  {
   "cell_type": "code",
   "execution_count": 23,
   "metadata": {
    "scrolled": true
   },
   "outputs": [
    {
     "data": {
      "text/html": [
       "<div>\n",
       "<style scoped>\n",
       "    .dataframe tbody tr th:only-of-type {\n",
       "        vertical-align: middle;\n",
       "    }\n",
       "\n",
       "    .dataframe tbody tr th {\n",
       "        vertical-align: top;\n",
       "    }\n",
       "\n",
       "    .dataframe thead th {\n",
       "        text-align: right;\n",
       "    }\n",
       "</style>\n",
       "<table border=\"1\" class=\"dataframe\">\n",
       "  <thead>\n",
       "    <tr style=\"text-align: right;\">\n",
       "      <th></th>\n",
       "      <th>gender</th>\n",
       "      <th>age</th>\n",
       "      <th>income</th>\n",
       "      <th>family_members</th>\n",
       "      <th>insurance_benefits</th>\n",
       "      <th>distance</th>\n",
       "    </tr>\n",
       "  </thead>\n",
       "  <tbody>\n",
       "    <tr>\n",
       "      <th>500</th>\n",
       "      <td>0</td>\n",
       "      <td>18</td>\n",
       "      <td>54800.0</td>\n",
       "      <td>2</td>\n",
       "      <td>0</td>\n",
       "      <td>0.000000</td>\n",
       "    </tr>\n",
       "    <tr>\n",
       "      <th>735</th>\n",
       "      <td>0</td>\n",
       "      <td>18</td>\n",
       "      <td>54800.0</td>\n",
       "      <td>1</td>\n",
       "      <td>0</td>\n",
       "      <td>1.000000</td>\n",
       "    </tr>\n",
       "    <tr>\n",
       "      <th>2772</th>\n",
       "      <td>1</td>\n",
       "      <td>19</td>\n",
       "      <td>54800.0</td>\n",
       "      <td>1</td>\n",
       "      <td>0</td>\n",
       "      <td>1.732051</td>\n",
       "    </tr>\n",
       "    <tr>\n",
       "      <th>1289</th>\n",
       "      <td>0</td>\n",
       "      <td>21</td>\n",
       "      <td>54800.0</td>\n",
       "      <td>1</td>\n",
       "      <td>0</td>\n",
       "      <td>3.162278</td>\n",
       "    </tr>\n",
       "    <tr>\n",
       "      <th>1963</th>\n",
       "      <td>1</td>\n",
       "      <td>24</td>\n",
       "      <td>54800.0</td>\n",
       "      <td>1</td>\n",
       "      <td>0</td>\n",
       "      <td>6.164414</td>\n",
       "    </tr>\n",
       "  </tbody>\n",
       "</table>\n",
       "</div>"
      ],
      "text/plain": [
       "      gender  age   income  family_members  insurance_benefits  distance\n",
       "500        0   18  54800.0               2                   0  0.000000\n",
       "735        0   18  54800.0               1                   0  1.000000\n",
       "2772       1   19  54800.0               1                   0  1.732051\n",
       "1289       0   21  54800.0               1                   0  3.162278\n",
       "1963       1   24  54800.0               1                   0  6.164414"
      ]
     },
     "execution_count": 23,
     "metadata": {},
     "output_type": "execute_result"
    }
   ],
   "source": [
    "#Cálculo de 5 vecinos mas cercanos para la observación 500 con distancia euclideana y sin escalar\n",
    "noscale_eu = get_knn(df,500,5,'euclidean')\n",
    "noscale_eu"
   ]
  },
  {
   "cell_type": "code",
   "execution_count": 24,
   "metadata": {},
   "outputs": [
    {
     "data": {
      "text/html": [
       "<div>\n",
       "<style scoped>\n",
       "    .dataframe tbody tr th:only-of-type {\n",
       "        vertical-align: middle;\n",
       "    }\n",
       "\n",
       "    .dataframe tbody tr th {\n",
       "        vertical-align: top;\n",
       "    }\n",
       "\n",
       "    .dataframe thead th {\n",
       "        text-align: right;\n",
       "    }\n",
       "</style>\n",
       "<table border=\"1\" class=\"dataframe\">\n",
       "  <thead>\n",
       "    <tr style=\"text-align: right;\">\n",
       "      <th></th>\n",
       "      <th>gender</th>\n",
       "      <th>age</th>\n",
       "      <th>income</th>\n",
       "      <th>family_members</th>\n",
       "      <th>insurance_benefits</th>\n",
       "      <th>distance</th>\n",
       "    </tr>\n",
       "  </thead>\n",
       "  <tbody>\n",
       "    <tr>\n",
       "      <th>500</th>\n",
       "      <td>0</td>\n",
       "      <td>18</td>\n",
       "      <td>54800.0</td>\n",
       "      <td>2</td>\n",
       "      <td>0</td>\n",
       "      <td>0.0</td>\n",
       "    </tr>\n",
       "    <tr>\n",
       "      <th>735</th>\n",
       "      <td>0</td>\n",
       "      <td>18</td>\n",
       "      <td>54800.0</td>\n",
       "      <td>1</td>\n",
       "      <td>0</td>\n",
       "      <td>1.0</td>\n",
       "    </tr>\n",
       "    <tr>\n",
       "      <th>2772</th>\n",
       "      <td>1</td>\n",
       "      <td>19</td>\n",
       "      <td>54800.0</td>\n",
       "      <td>1</td>\n",
       "      <td>0</td>\n",
       "      <td>3.0</td>\n",
       "    </tr>\n",
       "    <tr>\n",
       "      <th>1289</th>\n",
       "      <td>0</td>\n",
       "      <td>21</td>\n",
       "      <td>54800.0</td>\n",
       "      <td>1</td>\n",
       "      <td>0</td>\n",
       "      <td>4.0</td>\n",
       "    </tr>\n",
       "    <tr>\n",
       "      <th>1963</th>\n",
       "      <td>1</td>\n",
       "      <td>24</td>\n",
       "      <td>54800.0</td>\n",
       "      <td>1</td>\n",
       "      <td>0</td>\n",
       "      <td>8.0</td>\n",
       "    </tr>\n",
       "  </tbody>\n",
       "</table>\n",
       "</div>"
      ],
      "text/plain": [
       "      gender  age   income  family_members  insurance_benefits  distance\n",
       "500        0   18  54800.0               2                   0       0.0\n",
       "735        0   18  54800.0               1                   0       1.0\n",
       "2772       1   19  54800.0               1                   0       3.0\n",
       "1289       0   21  54800.0               1                   0       4.0\n",
       "1963       1   24  54800.0               1                   0       8.0"
      ]
     },
     "execution_count": 24,
     "metadata": {},
     "output_type": "execute_result"
    }
   ],
   "source": [
    "#Cálculo de 5 vecinos mas cercanos para la observación 500 con distancia manhattan y sin escalar\n",
    "noscale_man = get_knn(df,500,5,'manhattan')\n",
    "noscale_man"
   ]
  },
  {
   "cell_type": "code",
   "execution_count": 25,
   "metadata": {},
   "outputs": [
    {
     "data": {
      "text/html": [
       "<div>\n",
       "<style scoped>\n",
       "    .dataframe tbody tr th:only-of-type {\n",
       "        vertical-align: middle;\n",
       "    }\n",
       "\n",
       "    .dataframe tbody tr th {\n",
       "        vertical-align: top;\n",
       "    }\n",
       "\n",
       "    .dataframe thead th {\n",
       "        text-align: right;\n",
       "    }\n",
       "</style>\n",
       "<table border=\"1\" class=\"dataframe\">\n",
       "  <thead>\n",
       "    <tr style=\"text-align: right;\">\n",
       "      <th></th>\n",
       "      <th>gender</th>\n",
       "      <th>age</th>\n",
       "      <th>income</th>\n",
       "      <th>family_members</th>\n",
       "      <th>insurance_benefits</th>\n",
       "      <th>distance</th>\n",
       "    </tr>\n",
       "  </thead>\n",
       "  <tbody>\n",
       "    <tr>\n",
       "      <th>500</th>\n",
       "      <td>0.0</td>\n",
       "      <td>0.276923</td>\n",
       "      <td>0.693671</td>\n",
       "      <td>0.333333</td>\n",
       "      <td>0</td>\n",
       "      <td>0.000000</td>\n",
       "    </tr>\n",
       "    <tr>\n",
       "      <th>3013</th>\n",
       "      <td>0.0</td>\n",
       "      <td>0.292308</td>\n",
       "      <td>0.677215</td>\n",
       "      <td>0.333333</td>\n",
       "      <td>0</td>\n",
       "      <td>0.022527</td>\n",
       "    </tr>\n",
       "    <tr>\n",
       "      <th>2705</th>\n",
       "      <td>0.0</td>\n",
       "      <td>0.292308</td>\n",
       "      <td>0.712658</td>\n",
       "      <td>0.333333</td>\n",
       "      <td>0</td>\n",
       "      <td>0.024438</td>\n",
       "    </tr>\n",
       "    <tr>\n",
       "      <th>3518</th>\n",
       "      <td>0.0</td>\n",
       "      <td>0.292308</td>\n",
       "      <td>0.665823</td>\n",
       "      <td>0.333333</td>\n",
       "      <td>0</td>\n",
       "      <td>0.031815</td>\n",
       "    </tr>\n",
       "    <tr>\n",
       "      <th>2405</th>\n",
       "      <td>0.0</td>\n",
       "      <td>0.292308</td>\n",
       "      <td>0.736709</td>\n",
       "      <td>0.333333</td>\n",
       "      <td>0</td>\n",
       "      <td>0.045705</td>\n",
       "    </tr>\n",
       "  </tbody>\n",
       "</table>\n",
       "</div>"
      ],
      "text/plain": [
       "      gender       age    income  family_members  insurance_benefits  distance\n",
       "500      0.0  0.276923  0.693671        0.333333                   0  0.000000\n",
       "3013     0.0  0.292308  0.677215        0.333333                   0  0.022527\n",
       "2705     0.0  0.292308  0.712658        0.333333                   0  0.024438\n",
       "3518     0.0  0.292308  0.665823        0.333333                   0  0.031815\n",
       "2405     0.0  0.292308  0.736709        0.333333                   0  0.045705"
      ]
     },
     "execution_count": 25,
     "metadata": {},
     "output_type": "execute_result"
    }
   ],
   "source": [
    "#Cálculo de 5 vecinos mas cercanos para la observación 500 con distancia euclideana y escalada\n",
    "scaled_eu = get_knn(df_scaled,500,5,'euclidean')\n",
    "scaled_eu"
   ]
  },
  {
   "cell_type": "code",
   "execution_count": 26,
   "metadata": {},
   "outputs": [
    {
     "data": {
      "text/html": [
       "<div>\n",
       "<style scoped>\n",
       "    .dataframe tbody tr th:only-of-type {\n",
       "        vertical-align: middle;\n",
       "    }\n",
       "\n",
       "    .dataframe tbody tr th {\n",
       "        vertical-align: top;\n",
       "    }\n",
       "\n",
       "    .dataframe thead th {\n",
       "        text-align: right;\n",
       "    }\n",
       "</style>\n",
       "<table border=\"1\" class=\"dataframe\">\n",
       "  <thead>\n",
       "    <tr style=\"text-align: right;\">\n",
       "      <th></th>\n",
       "      <th>gender</th>\n",
       "      <th>age</th>\n",
       "      <th>income</th>\n",
       "      <th>family_members</th>\n",
       "      <th>insurance_benefits</th>\n",
       "      <th>distance</th>\n",
       "    </tr>\n",
       "  </thead>\n",
       "  <tbody>\n",
       "    <tr>\n",
       "      <th>500</th>\n",
       "      <td>0.0</td>\n",
       "      <td>0.276923</td>\n",
       "      <td>0.693671</td>\n",
       "      <td>0.333333</td>\n",
       "      <td>0</td>\n",
       "      <td>0.000000</td>\n",
       "    </tr>\n",
       "    <tr>\n",
       "      <th>3013</th>\n",
       "      <td>0.0</td>\n",
       "      <td>0.292308</td>\n",
       "      <td>0.677215</td>\n",
       "      <td>0.333333</td>\n",
       "      <td>0</td>\n",
       "      <td>0.031840</td>\n",
       "    </tr>\n",
       "    <tr>\n",
       "      <th>2705</th>\n",
       "      <td>0.0</td>\n",
       "      <td>0.292308</td>\n",
       "      <td>0.712658</td>\n",
       "      <td>0.333333</td>\n",
       "      <td>0</td>\n",
       "      <td>0.034372</td>\n",
       "    </tr>\n",
       "    <tr>\n",
       "      <th>3518</th>\n",
       "      <td>0.0</td>\n",
       "      <td>0.292308</td>\n",
       "      <td>0.665823</td>\n",
       "      <td>0.333333</td>\n",
       "      <td>0</td>\n",
       "      <td>0.043233</td>\n",
       "    </tr>\n",
       "    <tr>\n",
       "      <th>2405</th>\n",
       "      <td>0.0</td>\n",
       "      <td>0.292308</td>\n",
       "      <td>0.736709</td>\n",
       "      <td>0.333333</td>\n",
       "      <td>0</td>\n",
       "      <td>0.058423</td>\n",
       "    </tr>\n",
       "  </tbody>\n",
       "</table>\n",
       "</div>"
      ],
      "text/plain": [
       "      gender       age    income  family_members  insurance_benefits  distance\n",
       "500      0.0  0.276923  0.693671        0.333333                   0  0.000000\n",
       "3013     0.0  0.292308  0.677215        0.333333                   0  0.031840\n",
       "2705     0.0  0.292308  0.712658        0.333333                   0  0.034372\n",
       "3518     0.0  0.292308  0.665823        0.333333                   0  0.043233\n",
       "2405     0.0  0.292308  0.736709        0.333333                   0  0.058423"
      ]
     },
     "execution_count": 26,
     "metadata": {},
     "output_type": "execute_result"
    }
   ],
   "source": [
    "#Cálculo de 5 vecinos mas cercanos para la observación 500 con distancia manhattan y escalada\n",
    "scaled_man = get_knn(df_scaled,500,5,'manhattan')\n",
    "scaled_man"
   ]
  },
  {
   "cell_type": "markdown",
   "metadata": {},
   "source": [
    "**Influencia de escalado en el algoritmo kNN** \n",
    "\n",
    "Que los datos no estén escalados si afecta al KNN, pues si observamos los vecinos mas cercanos detectados, vemos que todos tienen el mismo valor de `income`, sin embargo los demás parámetros como `age`, `gender` y `family_members`, no necesariamente tienen los mismos valores que la observación que buscamos clasificar. Esto se puede deber a que al usar distancias, y ser el ingreso la magnitud mas grande, se da prioridad a minimizar la distancia de este parámetro por sobre el resto."
   ]
  },
  {
   "cell_type": "markdown",
   "metadata": {},
   "source": [
    "**Similitudes de los resultados al utilizar la métrica de distancia Manhattan (independientemente del escalado)?** \n",
    "\n",
    "Las respuestas para el kNN utilizando distancia euclideana y manhattan son muy similares, no existe diferencia en los vecinos seleccionados, solo en los valores de distancia hacia cada vecino."
   ]
  },
  {
   "cell_type": "markdown",
   "metadata": {},
   "source": [
    "## Probabilidad de que el cliente reciba una prestación del seguro"
   ]
  },
  {
   "cell_type": "markdown",
   "metadata": {},
   "source": [
    "Con el valor de `insurance_benefits` superior a cero como objetivo, se evalúa si el enfoque de clasificación kNN puede funcionar mejor que el modelo dummy.\n",
    "\n",
    "- Se construye un clasificador basado en KNN y se mide su calidad con la métrica F1 para k=1...10 tanto para los datos originales como para los escalados. \n",
    "- Se observa cómo k puede influir en la métrica de evaluación y si el escalado de los datos provoca alguna diferencia. \n",
    "- Se construye un modelo dummy aleatorio. Debería devolver \"1\" con cierta probabilidad. Se prueba el modelo con cuatro valores de probabilidad: 0, la probabilidad de pagar cualquier prestación del seguro, 0.5, 1.\n",
    "La probabilidad de pagar cualquier prestación del seguro puede definirse como\n",
    "$$\n",
    "P\\{\\text{prestación de seguro recibida}\\}=\\frac{\\text{número de clientes que han recibido alguna prestación de seguro}}{\\text{número total de clientes}}.\n",
    "$$\n",
    "\n",
    "Los datos se dividen correspondientes a las etapas de entrenamiento/prueba respetando la proporción 70:30."
   ]
  },
  {
   "cell_type": "code",
   "execution_count": 27,
   "metadata": {},
   "outputs": [],
   "source": [
    "# сalcula el objetivo\n",
    "df['insurance_benefits_received'] = (df['insurance_benefits']>0).astype(int)"
   ]
  },
  {
   "cell_type": "code",
   "execution_count": null,
   "metadata": {
    "scrolled": true
   },
   "outputs": [
    {
     "data": {
      "text/plain": [
       "0    4436\n",
       "1     564\n",
       "Name: insurance_benefits_received, dtype: int64"
      ]
     },
     "execution_count": 28,
     "metadata": {},
     "output_type": "execute_result"
    }
   ],
   "source": [
    "# desequilibrio de clases con value_counts()\n",
    "df['insurance_benefits_received'].value_counts()"
   ]
  },
  {
   "cell_type": "markdown",
   "metadata": {},
   "source": [
    "Existe un claro desequilibrio, donde predominan las personas que no han recibido beneficios"
   ]
  },
  {
   "cell_type": "code",
   "execution_count": null,
   "metadata": {},
   "outputs": [],
   "source": [
    "#función que calcula el score f1 y la matriz de confusión\n",
    "def eval_classifier(y_true, y_pred):\n",
    "    \n",
    "    f1_score = sklearn.metrics.f1_score(y_true, y_pred)\n",
    "    print(f'F1: {f1_score:.2f}')\n",
    "        \n",
    "    cm = sklearn.metrics.confusion_matrix(y_true, y_pred, normalize='all')\n",
    "    print('Matriz de confusión')\n",
    "    print(cm)"
   ]
  },
  {
   "cell_type": "code",
   "execution_count": null,
   "metadata": {},
   "outputs": [],
   "source": [
    "# modelo aleatorio\n",
    "def rnd_model_predict(P, size, seed=42):\n",
    "\n",
    "    rng = np.random.default_rng(seed=seed)\n",
    "    return rng.binomial(n=1, p=P, size=size)"
   ]
  },
  {
   "cell_type": "code",
   "execution_count": 31,
   "metadata": {},
   "outputs": [
    {
     "name": "stdout",
     "output_type": "stream",
     "text": [
      "La probabilidad: 0.00\n",
      "F1: 0.00\n",
      "Matriz de confusión\n",
      "[[0.8872 0.    ]\n",
      " [0.1128 0.    ]]\n",
      "\n",
      "La probabilidad: 0.11\n",
      "F1: 0.12\n",
      "Matriz de confusión\n",
      "[[0.7914 0.0958]\n",
      " [0.0994 0.0134]]\n",
      "\n",
      "La probabilidad: 0.50\n",
      "F1: 0.20\n",
      "Matriz de confusión\n",
      "[[0.456  0.4312]\n",
      " [0.053  0.0598]]\n",
      "\n",
      "La probabilidad: 1.00\n",
      "F1: 0.20\n",
      "Matriz de confusión\n",
      "[[0.     0.8872]\n",
      " [0.     0.1128]]\n",
      "\n"
     ]
    }
   ],
   "source": [
    "#Generación de predicción dummy para diferentes probabilidades de recibir beneficios\n",
    "for P in [0, df['insurance_benefits_received'].sum() / len(df), 0.5, 1]:\n",
    "\n",
    "    print(f'La probabilidad: {P:.2f}')\n",
    "    y_pred_rnd = rnd_model_predict(P,len(df))    \n",
    "    eval_classifier(df['insurance_benefits_received'], y_pred_rnd)\n",
    "    \n",
    "    print()"
   ]
  },
  {
   "cell_type": "markdown",
   "metadata": {},
   "source": [
    "El score F1 para todos los escenarios es muy bajo, lo cual indica que el modelo dummy no logra una buena predicción."
   ]
  },
  {
   "cell_type": "code",
   "execution_count": 32,
   "metadata": {},
   "outputs": [],
   "source": [
    "# Separación en train y test para paraamtros balanceados y no balanceados\n",
    "features = df.drop(['insurance_benefits','insurance_benefits_received'],axis=1)\n",
    "target = df['insurance_benefits_received']\n",
    "features_train,features_test,target_train,target_test = train_test_split(features,target,test_size=0.3,random_state=123)\n",
    "\n",
    "features_scaled = df_scaled.drop('insurance_benefits',axis=1)\n",
    "features_sc_train, features_sc_test = train_test_split(features_scaled,test_size=0.3,random_state=123)\n"
   ]
  },
  {
   "cell_type": "code",
   "execution_count": 33,
   "metadata": {},
   "outputs": [],
   "source": [
    "#función NearestNeighbors para predicción con distintos k vecinos y cálculo del score F1 \n",
    "def knn_model(features_train,features_test,target_train,target_test):\n",
    "    \n",
    "    for i in range(1,11):\n",
    "        model = KNeighborsClassifier(n_neighbors=i, algorithm='auto', metric='euclidean')\n",
    "        model.fit(features_train,target_train)\n",
    "        target_pred = model.predict(features_test)\n",
    "        f1 = sklearn.metrics.f1_score(target_test, target_pred)\n",
    "        print (f'F1 score {f1:.2f} con {i} vecinos')"
   ]
  },
  {
   "cell_type": "markdown",
   "metadata": {},
   "source": [
    "**Predicción con Datos Originales**"
   ]
  },
  {
   "cell_type": "code",
   "execution_count": 34,
   "metadata": {},
   "outputs": [
    {
     "name": "stdout",
     "output_type": "stream",
     "text": [
      "F1 score 0.67 con 1 vecinos\n",
      "F1 score 0.40 con 2 vecinos\n",
      "F1 score 0.41 con 3 vecinos\n",
      "F1 score 0.20 con 4 vecinos\n",
      "F1 score 0.23 con 5 vecinos\n",
      "F1 score 0.14 con 6 vecinos\n",
      "F1 score 0.14 con 7 vecinos\n",
      "F1 score 0.06 con 8 vecinos\n",
      "F1 score 0.08 con 9 vecinos\n",
      "F1 score 0.03 con 10 vecinos\n"
     ]
    }
   ],
   "source": [
    "knn_model(features_train,features_test,target_train,target_test)"
   ]
  },
  {
   "cell_type": "markdown",
   "metadata": {},
   "source": [
    "**Predicción con Datos Escalados**"
   ]
  },
  {
   "cell_type": "code",
   "execution_count": 35,
   "metadata": {},
   "outputs": [
    {
     "name": "stdout",
     "output_type": "stream",
     "text": [
      "F1 score 0.95 con 1 vecinos\n",
      "F1 score 0.92 con 2 vecinos\n",
      "F1 score 0.93 con 3 vecinos\n",
      "F1 score 0.90 con 4 vecinos\n",
      "F1 score 0.92 con 5 vecinos\n",
      "F1 score 0.93 con 6 vecinos\n",
      "F1 score 0.94 con 7 vecinos\n",
      "F1 score 0.93 con 8 vecinos\n",
      "F1 score 0.93 con 9 vecinos\n",
      "F1 score 0.91 con 10 vecinos\n"
     ]
    }
   ],
   "source": [
    "knn_model(features_sc_train,features_sc_test,target_train,target_test)"
   ]
  },
  {
   "cell_type": "markdown",
   "metadata": {},
   "source": [
    "- Tomando en cuenta el score F1, el modelo dummy predice mucho peor que el modelo KNearestNeighbors para clasificar a las personas que han recibido beneficios.\n",
    "- El número k de vecinos tomados en cuenta para claisifcar a los usuarios influye en el el resultado F1, mostrando que al tomar solo 1 vecino cercano como referencia, el score es mayor, y decrece a medida que aumenta k (solo en datos no escalados).\n",
    "- El escalado de datos afecta de manera importante en el score F1 y por tanto, en la predicción del modelo de vecinos cercanos, superando el 0.9 para cualquier número k de vecinos."
   ]
  },
  {
   "cell_type": "markdown",
   "metadata": {},
   "source": [
    "## Regresión Lineal"
   ]
  },
  {
   "cell_type": "markdown",
   "metadata": {},
   "source": [
    "Con `insurance_benefits` como objetivo, vamos a evaluar cuál sería la RECM de un modelo de regresión lineal."
   ]
  },
  {
   "cell_type": "markdown",
   "metadata": {},
   "source": [
    "Se va a comprobar la RECM tanto para los datos originales como para los escalados."
   ]
  },
  {
   "cell_type": "code",
   "execution_count": 36,
   "metadata": {},
   "outputs": [],
   "source": [
    "#Clase Regresión Lineal con matrices\n",
    "class MyLinearRegression:\n",
    "    \n",
    "    def __init__(self):\n",
    "        \n",
    "        self.weights = None\n",
    "    \n",
    "    def fit(self, X, y):\n",
    "        \n",
    "        # añadir las unidades\n",
    "        X2 = np.append(np.ones([len(X), 1]), X, axis=1)\n",
    "        self.weights = ((np.linalg.inv(X2.T @ X2)) @ X2.T) @ y\n",
    "\n",
    "    def predict(self, X):\n",
    "        \n",
    "        # añadir las unidades\n",
    "        X2 = np.append(np.ones([len(X), 1]), X, axis=1)\n",
    "        y_pred = X2 @ self.weights\n",
    "        \n",
    "        return y_pred"
   ]
  },
  {
   "cell_type": "code",
   "execution_count": 37,
   "metadata": {},
   "outputs": [],
   "source": [
    "# función para evaluar el RMSE y el R2 de la predicción \n",
    "def eval_regressor(y_true, y_pred):\n",
    "    \n",
    "    rmse = math.sqrt(sklearn.metrics.mean_squared_error(y_true, y_pred))\n",
    "    print(f'RMSE: {rmse:.2f}')\n",
    "    \n",
    "    r2_score = math.sqrt(sklearn.metrics.r2_score(y_true, y_pred))\n",
    "    print(f'R2: {r2_score:.2f}')    "
   ]
  },
  {
   "cell_type": "markdown",
   "metadata": {},
   "source": [
    "**Datos Originales**"
   ]
  },
  {
   "cell_type": "code",
   "execution_count": 38,
   "metadata": {
    "scrolled": true
   },
   "outputs": [
    {
     "name": "stdout",
     "output_type": "stream",
     "text": [
      "[-9.43539012e-01  3.57495491e-02  1.64272726e-02 -2.60743659e-07\n",
      " -1.16902127e-02]\n",
      "RMSE: 0.34\n",
      "R2: 0.66\n"
     ]
    }
   ],
   "source": [
    "#Aplicación de modelo y cálculo de scores para datos originales\n",
    "X = df[['age', 'gender', 'income', 'family_members']].to_numpy()\n",
    "y = df['insurance_benefits'].to_numpy()\n",
    "\n",
    "X_train, X_test, y_train, y_test = train_test_split(X, y, test_size=0.3, random_state=12345)\n",
    "\n",
    "lr = MyLinearRegression()\n",
    "lr.fit(X_train, y_train)\n",
    "print(lr.weights)\n",
    "\n",
    "y_test_pred = lr.predict(X_test)\n",
    "eval_regressor(y_test, y_test_pred)"
   ]
  },
  {
   "cell_type": "markdown",
   "metadata": {},
   "source": [
    "**Datos Escalados**"
   ]
  },
  {
   "cell_type": "code",
   "execution_count": 39,
   "metadata": {},
   "outputs": [
    {
     "name": "stdout",
     "output_type": "stream",
     "text": [
      "[-0.94353901  0.01642727  2.32372069 -0.02059875 -0.07014128]\n",
      "RMSE: 0.34\n",
      "R2: 0.66\n"
     ]
    }
   ],
   "source": [
    "#Aplicación de modelo y cálculo de scores para datos escalados\n",
    "Xsc = df_scaled[feature_names].to_numpy()\n",
    "X_train, X_test = train_test_split(Xsc,test_size=0.3, random_state=12345)\n",
    "\n",
    "model = MyLinearRegression()\n",
    "model.fit(X_train, y_train)\n",
    "print(model.weights)\n",
    "\n",
    "y_test_pred = model.predict(X_test)\n",
    "eval_regressor(y_test, y_test_pred)"
   ]
  },
  {
   "cell_type": "markdown",
   "metadata": {},
   "source": [
    "Al comparar la predicción del modelo cuando usamos los datos originales versus los datos escalados, vemos que el RSME y el $r²$ son idénticos (no mejora la predicción). Esto se puede deber a que la regresión no depende la magnitud de cada columna, y a que se calcula un vector de pesos adecuado a cada parámetro de entrenamiento."
   ]
  },
  {
   "cell_type": "markdown",
   "metadata": {},
   "source": [
    "## Ofuscar datos"
   ]
  },
  {
   "cell_type": "markdown",
   "metadata": {},
   "source": [
    "Lo mejor es ofuscar los datos multiplicando las características numéricas por una matriz invertible $P$. \n",
    "\n",
    "$$\n",
    "X' = X \\times P\n",
    "$$"
   ]
  },
  {
   "cell_type": "code",
   "execution_count": 40,
   "metadata": {},
   "outputs": [],
   "source": [
    "personal_info_column_list = ['gender', 'age', 'income', 'family_members']\n",
    "df_pn = df[personal_info_column_list]"
   ]
  },
  {
   "cell_type": "code",
   "execution_count": 41,
   "metadata": {},
   "outputs": [],
   "source": [
    "X = df_pn.to_numpy()"
   ]
  },
  {
   "cell_type": "markdown",
   "metadata": {},
   "source": [
    "Generar una matriz aleatoria $P$."
   ]
  },
  {
   "cell_type": "code",
   "execution_count": 42,
   "metadata": {},
   "outputs": [],
   "source": [
    "rng = np.random.default_rng(seed=42)\n",
    "P = rng.random(size=(X.shape[1], X.shape[1]))"
   ]
  },
  {
   "cell_type": "markdown",
   "metadata": {},
   "source": [
    "Comprobar que la matriz P sea invertible"
   ]
  },
  {
   "cell_type": "code",
   "execution_count": 43,
   "metadata": {},
   "outputs": [
    {
     "data": {
      "text/plain": [
       "array([[ 1., -0., -0., -0.],\n",
       "       [-0.,  1., -0.,  0.],\n",
       "       [-0., -0.,  1.,  0.],\n",
       "       [-0., -0.,  0.,  1.]])"
      ]
     },
     "execution_count": 43,
     "metadata": {},
     "output_type": "execute_result"
    }
   ],
   "source": [
    "#Obtención de matriz identidad\n",
    "np.round(P.dot(np.linalg.inv(P)))"
   ]
  },
  {
   "cell_type": "markdown",
   "metadata": {},
   "source": [
    "Datos de la edad y los ingresos de los clientes después de la transformación"
   ]
  },
  {
   "cell_type": "code",
   "execution_count": 44,
   "metadata": {},
   "outputs": [
    {
     "data": {
      "text/plain": [
       "array([[ 6359.71527314, 22380.40467609, 18424.09074184, 46000.69669016],\n",
       "       [ 4873.29406479, 17160.36702982, 14125.78076133, 35253.45577301],\n",
       "       [ 2693.11742928,  9486.397744  ,  7808.83156024, 19484.86063067],\n",
       "       ...,\n",
       "       [ 4346.2234249 , 15289.24126492, 12586.16264392, 31433.50888552],\n",
       "       [ 4194.09324155, 14751.9910242 , 12144.02930637, 30323.88763426],\n",
       "       [ 5205.46827354, 18314.24814446, 15077.01370762, 37649.59295455]])"
      ]
     },
     "execution_count": 44,
     "metadata": {},
     "output_type": "execute_result"
    }
   ],
   "source": [
    "Xof = X.dot(P)\n",
    "Xof"
   ]
  },
  {
   "cell_type": "markdown",
   "metadata": {},
   "source": [
    "No se puede identificar el valor original de ningún dato númerico"
   ]
  },
  {
   "cell_type": "markdown",
   "metadata": {},
   "source": [
    "Recuperar los datos originales de $X'$ con $P$"
   ]
  },
  {
   "cell_type": "code",
   "execution_count": 45,
   "metadata": {},
   "outputs": [
    {
     "data": {
      "text/plain": [
       "array([[ 1.00e+00,  4.10e+01,  4.96e+04,  1.00e+00],\n",
       "       [-0.00e+00,  4.60e+01,  3.80e+04,  1.00e+00],\n",
       "       [-0.00e+00,  2.90e+01,  2.10e+04,  0.00e+00],\n",
       "       ...,\n",
       "       [-0.00e+00,  2.00e+01,  3.39e+04,  2.00e+00],\n",
       "       [ 1.00e+00,  2.20e+01,  3.27e+04,  3.00e+00],\n",
       "       [ 1.00e+00,  2.80e+01,  4.06e+04,  1.00e+00]])"
      ]
     },
     "execution_count": 45,
     "metadata": {},
     "output_type": "execute_result"
    }
   ],
   "source": [
    "Xrec = np.around(Xof.dot(np.linalg.inv(P)),decimals=1)\n",
    "Xrec"
   ]
  },
  {
   "cell_type": "markdown",
   "metadata": {},
   "source": [
    "Muestra de tres casos para algunos clientes\n",
    "- Datos originales\n",
    "- El que está transformado\n",
    "- El que está invertido (recuperado)"
   ]
  },
  {
   "cell_type": "code",
   "execution_count": 46,
   "metadata": {},
   "outputs": [
    {
     "data": {
      "text/html": [
       "<div>\n",
       "<style scoped>\n",
       "    .dataframe tbody tr th:only-of-type {\n",
       "        vertical-align: middle;\n",
       "    }\n",
       "\n",
       "    .dataframe tbody tr th {\n",
       "        vertical-align: top;\n",
       "    }\n",
       "\n",
       "    .dataframe thead th {\n",
       "        text-align: right;\n",
       "    }\n",
       "</style>\n",
       "<table border=\"1\" class=\"dataframe\">\n",
       "  <thead>\n",
       "    <tr style=\"text-align: right;\">\n",
       "      <th></th>\n",
       "      <th>Dato Original</th>\n",
       "      <th>Dato Recuperado</th>\n",
       "      <th>Dato Ofuscado</th>\n",
       "    </tr>\n",
       "  </thead>\n",
       "  <tbody>\n",
       "    <tr>\n",
       "      <th>1000</th>\n",
       "      <td>[1.0, 41.0, 42600.0, 1.0]</td>\n",
       "      <td>[1.0, 41.0, 42600.0, 1.0]</td>\n",
       "      <td>[5462.919844410284, 19227.70311082129, 15828.5...</td>\n",
       "    </tr>\n",
       "    <tr>\n",
       "      <th>2000</th>\n",
       "      <td>[0.0, 34.0, 29000.0, 2.0]</td>\n",
       "      <td>[-0.0, 34.0, 29000.0, 2.0]</td>\n",
       "      <td>[3719.7851076591714, 13096.008882153637, 10779...</td>\n",
       "    </tr>\n",
       "    <tr>\n",
       "      <th>3000</th>\n",
       "      <td>[1.0, 32.0, 37100.0, 2.0]</td>\n",
       "      <td>[1.0, 32.0, 37100.0, 2.0]</td>\n",
       "      <td>[4758.0911336838735, 16742.622612844214, 13782...</td>\n",
       "    </tr>\n",
       "  </tbody>\n",
       "</table>\n",
       "</div>"
      ],
      "text/plain": [
       "                  Dato Original             Dato Recuperado  \\\n",
       "1000  [1.0, 41.0, 42600.0, 1.0]   [1.0, 41.0, 42600.0, 1.0]   \n",
       "2000  [0.0, 34.0, 29000.0, 2.0]  [-0.0, 34.0, 29000.0, 2.0]   \n",
       "3000  [1.0, 32.0, 37100.0, 2.0]   [1.0, 32.0, 37100.0, 2.0]   \n",
       "\n",
       "                                          Dato Ofuscado  \n",
       "1000  [5462.919844410284, 19227.70311082129, 15828.5...  \n",
       "2000  [3719.7851076591714, 13096.008882153637, 10779...  \n",
       "3000  [4758.0911336838735, 16742.622612844214, 13782...  "
      ]
     },
     "execution_count": 46,
     "metadata": {},
     "output_type": "execute_result"
    }
   ],
   "source": [
    "data = pd.DataFrame({'Dato Original':[X[1000,:],X[2000,:],X[3000,:]],\n",
    "                     'Dato Recuperado':[Xrec[1000,:],Xrec[2000,:],Xrec[3000,:]],\n",
    "                     'Dato Ofuscado':[Xof[1000,:],Xof[2000,:],Xof[3000,:]]},index=[1000,2000,3000])\n",
    "data\n"
   ]
  },
  {
   "cell_type": "markdown",
   "metadata": {},
   "source": [
    "No se observan directamente diferencias con los datos originales, pero si se podrían presentar debido a que los cálculos computacionales se ven limitados por la capacidad computacional y pueden haber pequeños errores en los decimales"
   ]
  },
  {
   "cell_type": "markdown",
   "metadata": {},
   "source": [
    "### Prueba de que la ofuscación de datos puede funcionar con regresión lineal"
   ]
  },
  {
   "cell_type": "markdown",
   "metadata": {},
   "source": [
    "**Procedimiento**\n",
    "\n",
    "- Crear una matriz cuadrada $P$ de números aleatorios.\n",
    "- Comprobar que sea invertible.\n",
    "- Utilizar $XP$ como la nueva matriz de características"
   ]
  },
  {
   "cell_type": "code",
   "execution_count": 47,
   "metadata": {},
   "outputs": [],
   "source": [
    "#Generación de matriz P random invertible\n",
    "rng = np.random.default_rng(seed=42)\n",
    "P = rng.random(size=(X.shape[1], X.shape[1]))"
   ]
  },
  {
   "cell_type": "code",
   "execution_count": 48,
   "metadata": {},
   "outputs": [
    {
     "data": {
      "text/plain": [
       "array([[ 1., -0., -0., -0.],\n",
       "       [-0.,  1., -0., -0.],\n",
       "       [-0., -0.,  1.,  0.],\n",
       "       [-0., -0., -0.,  1.]])"
      ]
     },
     "execution_count": 48,
     "metadata": {},
     "output_type": "execute_result"
    }
   ],
   "source": [
    "#Comprobación de que la matriz P es invertible\n",
    "inv = np.round(np.linalg.inv(P) @ P)\n",
    "inv"
   ]
  },
  {
   "cell_type": "code",
   "execution_count": 49,
   "metadata": {},
   "outputs": [
    {
     "name": "stdout",
     "output_type": "stream",
     "text": [
      "[-0.94353902 -0.05791721 -0.01546567  0.09871889 -0.02397536]\n",
      "RMSE: 0.34\n",
      "R2: 0.66\n"
     ]
    }
   ],
   "source": [
    "#Matriz ofuscada\n",
    "XP = X @ P\n",
    "\n",
    "#Separación, entrenamiento y cálculo de métricas con datos ofuscados\n",
    "X_train, X_test = train_test_split(XP,test_size=0.3, random_state=12345)\n",
    "\n",
    "model = MyLinearRegression()\n",
    "model.fit(X_train, y_train)\n",
    "print(model.weights)\n",
    "\n",
    "y_test_pred = model.predict(X_test)\n",
    "eval_regressor(y_test, y_test_pred)"
   ]
  },
  {
   "cell_type": "markdown",
   "metadata": {},
   "source": [
    "## Conclusiones"
   ]
  },
  {
   "cell_type": "markdown",
   "metadata": {},
   "source": [
    "- El escalamiento de los datos ayuda al KNN, puesto que los vecinos mas cercanos detectados, se basan en todas las columnas de características y no solo en el que tiene la magnitud mas grande.\n",
    "- Las respuestas para el kNN utilizando distancia euclideana y manhattan son muy similares, no existe diferencia en los vecinos seleccionados, solo en los valores de distancia hacia cada vecino."
   ]
  },
  {
   "cell_type": "markdown",
   "metadata": {},
   "source": [
    "- El número $k$ de vecinos tomados en cuenta para claisifcar a los usuarios influye en la calidad de predicción, mostrando que al tomar solo 1 vecino, el score es mayor tanto para datos escalados y como no escalados.\n",
    "- El escalado de datos afecta de manera importante en la predicción del modelo knn, superando el valor $F1=0.9$ para cualquier número $k$ de vecinos. Muy superior al $F1=0.67$ conseguidos con datos originales."
   ]
  },
  {
   "cell_type": "markdown",
   "metadata": {},
   "source": [
    "- El ofuscamiento de datos es una técnica muy útil para evitar la filtración de información sensible, para ello hay que tomar en cuenta que la matriz de ofuscación P debe cumplir el principio de ser invertible.\n",
    "- El ofuscamiento no afecta a la predicción de la regresión lineal ni a las métricas de score como el RMSE o $r²$. En los datos originales (escalados y no escalados) y ofuscados obtuvimos un $RMSE=0.34$ y un $r²=0.66$"
   ]
  }
 ],
 "metadata": {
  "ExecuteTimeLog": [
   {
    "duration": 2385,
    "start_time": "2024-12-12T21:08:34.028Z"
   },
   {
    "duration": 2768,
    "start_time": "2024-12-12T21:09:05.658Z"
   },
   {
    "duration": 14,
    "start_time": "2024-12-12T21:09:10.061Z"
   },
   {
    "duration": 3,
    "start_time": "2024-12-12T21:09:15.745Z"
   },
   {
    "duration": 14,
    "start_time": "2024-12-12T21:09:17.320Z"
   },
   {
    "duration": 10,
    "start_time": "2024-12-12T21:09:34.744Z"
   },
   {
    "duration": 3,
    "start_time": "2024-12-12T21:43:35.355Z"
   },
   {
    "duration": 2,
    "start_time": "2024-12-12T21:43:36.930Z"
   },
   {
    "duration": 8,
    "start_time": "2024-12-12T21:43:53.517Z"
   },
   {
    "duration": 4,
    "start_time": "2024-12-12T22:05:14.621Z"
   },
   {
    "duration": 7,
    "start_time": "2024-12-12T22:05:42.517Z"
   },
   {
    "duration": 134,
    "start_time": "2024-12-12T22:08:58.685Z"
   },
   {
    "duration": 90,
    "start_time": "2024-12-12T22:09:13.561Z"
   },
   {
    "duration": 7,
    "start_time": "2024-12-12T22:11:40.609Z"
   },
   {
    "duration": 153,
    "start_time": "2024-12-12T22:12:06.003Z"
   },
   {
    "duration": 8,
    "start_time": "2024-12-12T22:13:30.997Z"
   },
   {
    "duration": 80,
    "start_time": "2024-12-12T22:19:17.941Z"
   },
   {
    "duration": 24,
    "start_time": "2024-12-12T22:20:07.188Z"
   },
   {
    "duration": 5,
    "start_time": "2024-12-12T22:20:19.578Z"
   },
   {
    "duration": 2780,
    "start_time": "2024-12-12T22:37:20.709Z"
   },
   {
    "duration": 155,
    "start_time": "2024-12-13T16:38:07.705Z"
   },
   {
    "duration": 2699,
    "start_time": "2024-12-13T16:38:16.512Z"
   },
   {
    "duration": 13,
    "start_time": "2024-12-13T16:38:19.214Z"
   },
   {
    "duration": 3,
    "start_time": "2024-12-13T16:38:19.230Z"
   },
   {
    "duration": 11,
    "start_time": "2024-12-13T16:38:19.729Z"
   },
   {
    "duration": 10,
    "start_time": "2024-12-13T16:38:20.547Z"
   },
   {
    "duration": 3,
    "start_time": "2024-12-13T16:38:21.545Z"
   },
   {
    "duration": 9,
    "start_time": "2024-12-13T16:38:22.291Z"
   },
   {
    "duration": 4,
    "start_time": "2024-12-13T16:38:23.577Z"
   },
   {
    "duration": 7,
    "start_time": "2024-12-13T16:38:26.342Z"
   },
   {
    "duration": 6,
    "start_time": "2024-12-13T16:38:27.980Z"
   },
   {
    "duration": 7,
    "start_time": "2024-12-13T16:57:06.943Z"
   },
   {
    "duration": 16,
    "start_time": "2024-12-13T16:57:27.295Z"
   },
   {
    "duration": 626,
    "start_time": "2024-12-13T16:57:42.144Z"
   },
   {
    "duration": 7,
    "start_time": "2024-12-13T16:57:55.047Z"
   },
   {
    "duration": 2,
    "start_time": "2024-12-13T20:20:38.674Z"
   },
   {
    "duration": 2,
    "start_time": "2024-12-13T20:36:19.534Z"
   },
   {
    "duration": 3,
    "start_time": "2024-12-13T20:36:20.148Z"
   },
   {
    "duration": 8,
    "start_time": "2024-12-13T20:36:24.245Z"
   },
   {
    "duration": 8,
    "start_time": "2024-12-13T20:36:25.675Z"
   },
   {
    "duration": 4,
    "start_time": "2024-12-13T20:58:11.503Z"
   },
   {
    "duration": 9,
    "start_time": "2024-12-13T20:58:13.188Z"
   },
   {
    "duration": 9,
    "start_time": "2024-12-13T20:58:14.364Z"
   },
   {
    "duration": 25,
    "start_time": "2024-12-13T20:58:20.714Z"
   },
   {
    "duration": 6,
    "start_time": "2024-12-13T20:58:57.830Z"
   },
   {
    "duration": 24,
    "start_time": "2024-12-13T20:59:01.878Z"
   },
   {
    "duration": 3,
    "start_time": "2024-12-13T20:59:29.014Z"
   },
   {
    "duration": 21,
    "start_time": "2024-12-13T20:59:44.070Z"
   },
   {
    "duration": 4,
    "start_time": "2024-12-13T21:01:20.841Z"
   },
   {
    "duration": 24,
    "start_time": "2024-12-13T21:01:25.957Z"
   },
   {
    "duration": 2,
    "start_time": "2024-12-13T21:01:39.678Z"
   },
   {
    "duration": 22,
    "start_time": "2024-12-13T21:01:43.979Z"
   },
   {
    "duration": 2,
    "start_time": "2024-12-13T21:02:08.965Z"
   },
   {
    "duration": 20,
    "start_time": "2024-12-13T21:02:16.958Z"
   },
   {
    "duration": 4,
    "start_time": "2024-12-13T21:02:33.951Z"
   },
   {
    "duration": 198,
    "start_time": "2024-12-13T21:02:38.486Z"
   },
   {
    "duration": 6,
    "start_time": "2024-12-13T21:03:15.117Z"
   },
   {
    "duration": 44,
    "start_time": "2024-12-13T21:03:19.214Z"
   },
   {
    "duration": 4,
    "start_time": "2024-12-13T21:04:09.773Z"
   },
   {
    "duration": 24,
    "start_time": "2024-12-13T21:04:14.102Z"
   },
   {
    "duration": 4,
    "start_time": "2024-12-13T21:04:33.658Z"
   },
   {
    "duration": 21,
    "start_time": "2024-12-13T21:04:38.548Z"
   },
   {
    "duration": 24,
    "start_time": "2024-12-13T21:05:00.873Z"
   },
   {
    "duration": 4,
    "start_time": "2024-12-13T21:05:04.276Z"
   },
   {
    "duration": 58,
    "start_time": "2024-12-13T21:05:06.529Z"
   },
   {
    "duration": 4,
    "start_time": "2024-12-13T21:05:49.170Z"
   },
   {
    "duration": 15,
    "start_time": "2024-12-13T21:05:52.126Z"
   },
   {
    "duration": 16,
    "start_time": "2024-12-13T21:58:02.357Z"
   },
   {
    "duration": 3,
    "start_time": "2024-12-13T22:06:50.918Z"
   },
   {
    "duration": 23,
    "start_time": "2024-12-13T22:06:54.889Z"
   },
   {
    "duration": 3,
    "start_time": "2024-12-13T22:07:11.475Z"
   },
   {
    "duration": 3,
    "start_time": "2024-12-13T22:07:26.385Z"
   },
   {
    "duration": 3,
    "start_time": "2024-12-13T22:07:33.594Z"
   },
   {
    "duration": 3,
    "start_time": "2024-12-13T22:07:44.959Z"
   },
   {
    "duration": 15,
    "start_time": "2024-12-13T22:07:48.752Z"
   },
   {
    "duration": 14,
    "start_time": "2024-12-13T22:18:56.201Z"
   },
   {
    "duration": 21,
    "start_time": "2024-12-13T22:19:32.245Z"
   },
   {
    "duration": 9,
    "start_time": "2024-12-13T22:22:28.478Z"
   },
   {
    "duration": 8,
    "start_time": "2024-12-13T22:22:33.616Z"
   },
   {
    "duration": 22,
    "start_time": "2024-12-13T22:24:59.462Z"
   },
   {
    "duration": 13,
    "start_time": "2024-12-13T22:26:50.007Z"
   },
   {
    "duration": 17,
    "start_time": "2024-12-13T22:28:49.431Z"
   },
   {
    "duration": 34,
    "start_time": "2024-12-13T22:28:52.585Z"
   },
   {
    "duration": 22,
    "start_time": "2024-12-13T22:28:55.247Z"
   },
   {
    "duration": 22,
    "start_time": "2024-12-13T22:40:32.155Z"
   },
   {
    "duration": 22,
    "start_time": "2024-12-13T22:40:34.954Z"
   },
   {
    "duration": 14,
    "start_time": "2024-12-13T22:45:33.393Z"
   },
   {
    "duration": 21,
    "start_time": "2024-12-13T22:47:36.906Z"
   },
   {
    "duration": 21,
    "start_time": "2024-12-13T22:47:40.125Z"
   },
   {
    "duration": 13,
    "start_time": "2024-12-13T22:48:08.409Z"
   },
   {
    "duration": 13,
    "start_time": "2024-12-13T22:48:13.511Z"
   },
   {
    "duration": 41,
    "start_time": "2024-12-13T22:49:43.473Z"
   },
   {
    "duration": 13,
    "start_time": "2024-12-13T22:49:49.150Z"
   },
   {
    "duration": 2325,
    "start_time": "2024-12-14T23:15:13.374Z"
   },
   {
    "duration": 2670,
    "start_time": "2024-12-14T23:15:15.702Z"
   },
   {
    "duration": 10,
    "start_time": "2024-12-14T23:15:18.373Z"
   },
   {
    "duration": 3,
    "start_time": "2024-12-14T23:15:18.385Z"
   },
   {
    "duration": 21,
    "start_time": "2024-12-14T23:15:18.390Z"
   },
   {
    "duration": 8,
    "start_time": "2024-12-14T23:15:18.413Z"
   },
   {
    "duration": 3,
    "start_time": "2024-12-14T23:15:18.423Z"
   },
   {
    "duration": 8,
    "start_time": "2024-12-14T23:15:18.428Z"
   },
   {
    "duration": 5,
    "start_time": "2024-12-14T23:15:18.437Z"
   },
   {
    "duration": 6,
    "start_time": "2024-12-14T23:15:18.446Z"
   },
   {
    "duration": 118,
    "start_time": "2024-12-14T23:15:18.454Z"
   },
   {
    "duration": 7,
    "start_time": "2024-12-14T23:15:18.575Z"
   },
   {
    "duration": 22,
    "start_time": "2024-12-14T23:15:18.584Z"
   },
   {
    "duration": 146,
    "start_time": "2024-12-14T23:15:18.608Z"
   },
   {
    "duration": 6,
    "start_time": "2024-12-14T23:15:18.756Z"
   },
   {
    "duration": 98,
    "start_time": "2024-12-14T23:15:18.764Z"
   },
   {
    "duration": 5,
    "start_time": "2024-12-14T23:15:18.863Z"
   },
   {
    "duration": 2571,
    "start_time": "2024-12-14T23:15:18.870Z"
   },
   {
    "duration": 3,
    "start_time": "2024-12-14T23:15:21.444Z"
   },
   {
    "duration": 5,
    "start_time": "2024-12-14T23:15:21.449Z"
   },
   {
    "duration": 9,
    "start_time": "2024-12-14T23:15:21.456Z"
   },
   {
    "duration": 9,
    "start_time": "2024-12-14T23:15:21.467Z"
   },
   {
    "duration": 28,
    "start_time": "2024-12-14T23:15:21.478Z"
   },
   {
    "duration": 14,
    "start_time": "2024-12-14T23:15:21.508Z"
   },
   {
    "duration": 25,
    "start_time": "2024-12-14T23:15:21.523Z"
   },
   {
    "duration": 21,
    "start_time": "2024-12-14T23:15:21.549Z"
   },
   {
    "duration": 4,
    "start_time": "2024-12-14T23:15:21.572Z"
   },
   {
    "duration": 0,
    "start_time": "2024-12-14T23:15:21.578Z"
   },
   {
    "duration": 0,
    "start_time": "2024-12-14T23:15:21.605Z"
   },
   {
    "duration": 0,
    "start_time": "2024-12-14T23:15:21.606Z"
   },
   {
    "duration": 0,
    "start_time": "2024-12-14T23:15:21.607Z"
   },
   {
    "duration": 0,
    "start_time": "2024-12-14T23:15:21.608Z"
   },
   {
    "duration": 0,
    "start_time": "2024-12-14T23:15:21.610Z"
   },
   {
    "duration": 0,
    "start_time": "2024-12-14T23:15:21.611Z"
   },
   {
    "duration": 0,
    "start_time": "2024-12-14T23:15:21.613Z"
   },
   {
    "duration": 0,
    "start_time": "2024-12-14T23:15:21.615Z"
   },
   {
    "duration": 0,
    "start_time": "2024-12-14T23:15:21.616Z"
   },
   {
    "duration": 5,
    "start_time": "2024-12-15T02:00:22.717Z"
   },
   {
    "duration": 139,
    "start_time": "2024-12-15T02:00:33.983Z"
   },
   {
    "duration": 5,
    "start_time": "2024-12-15T02:00:41.762Z"
   },
   {
    "duration": 4,
    "start_time": "2024-12-15T02:06:39.551Z"
   },
   {
    "duration": 3,
    "start_time": "2024-12-15T02:06:57.718Z"
   },
   {
    "duration": 5,
    "start_time": "2024-12-15T02:08:35.765Z"
   },
   {
    "duration": 12,
    "start_time": "2024-12-15T02:10:20.968Z"
   },
   {
    "duration": 108,
    "start_time": "2024-12-15T02:11:12.759Z"
   },
   {
    "duration": 4,
    "start_time": "2024-12-15T02:12:16.860Z"
   },
   {
    "duration": 12,
    "start_time": "2024-12-15T02:12:21.796Z"
   },
   {
    "duration": 6,
    "start_time": "2024-12-15T02:12:48.605Z"
   },
   {
    "duration": 7,
    "start_time": "2024-12-15T02:13:22.807Z"
   },
   {
    "duration": 4,
    "start_time": "2024-12-15T02:13:37.556Z"
   },
   {
    "duration": 3,
    "start_time": "2024-12-15T02:15:35.939Z"
   },
   {
    "duration": 4,
    "start_time": "2024-12-15T02:15:50.284Z"
   },
   {
    "duration": 5,
    "start_time": "2024-12-15T02:16:01.549Z"
   },
   {
    "duration": 6,
    "start_time": "2024-12-15T02:16:10.794Z"
   },
   {
    "duration": 14,
    "start_time": "2024-12-15T02:16:18.937Z"
   },
   {
    "duration": 6,
    "start_time": "2024-12-15T02:16:26.105Z"
   },
   {
    "duration": 5,
    "start_time": "2024-12-15T02:16:36.732Z"
   },
   {
    "duration": 3,
    "start_time": "2024-12-15T02:16:47.942Z"
   },
   {
    "duration": 4,
    "start_time": "2024-12-15T02:17:03.783Z"
   },
   {
    "duration": 3,
    "start_time": "2024-12-15T02:18:22.023Z"
   },
   {
    "duration": 3,
    "start_time": "2024-12-15T02:18:32.673Z"
   },
   {
    "duration": 4,
    "start_time": "2024-12-15T02:18:33.847Z"
   },
   {
    "duration": 3,
    "start_time": "2024-12-15T02:25:48.810Z"
   },
   {
    "duration": 30,
    "start_time": "2024-12-15T02:34:59.890Z"
   },
   {
    "duration": 18,
    "start_time": "2024-12-15T02:36:14.773Z"
   },
   {
    "duration": 20,
    "start_time": "2024-12-15T02:37:07.310Z"
   },
   {
    "duration": 21,
    "start_time": "2024-12-15T02:37:28.119Z"
   },
   {
    "duration": 20,
    "start_time": "2024-12-15T02:38:52.174Z"
   },
   {
    "duration": 19,
    "start_time": "2024-12-15T02:39:16.750Z"
   },
   {
    "duration": 3,
    "start_time": "2024-12-15T02:41:22.117Z"
   },
   {
    "duration": 18,
    "start_time": "2024-12-15T02:41:24.646Z"
   },
   {
    "duration": 3,
    "start_time": "2024-12-15T02:50:43.295Z"
   },
   {
    "duration": 19,
    "start_time": "2024-12-15T02:50:46.111Z"
   },
   {
    "duration": 816,
    "start_time": "2024-12-15T03:06:42.338Z"
   },
   {
    "duration": 3,
    "start_time": "2024-12-15T03:06:58.435Z"
   },
   {
    "duration": 88,
    "start_time": "2024-12-15T03:07:16.944Z"
   },
   {
    "duration": 4,
    "start_time": "2024-12-15T03:07:27.296Z"
   },
   {
    "duration": 5,
    "start_time": "2024-12-15T03:08:40.923Z"
   },
   {
    "duration": 15,
    "start_time": "2024-12-15T03:09:04.479Z"
   },
   {
    "duration": 13,
    "start_time": "2024-12-15T03:09:11.760Z"
   },
   {
    "duration": 6,
    "start_time": "2024-12-15T03:09:23.103Z"
   },
   {
    "duration": 4,
    "start_time": "2024-12-15T03:09:33.342Z"
   },
   {
    "duration": 4,
    "start_time": "2024-12-15T03:20:02.905Z"
   },
   {
    "duration": 21,
    "start_time": "2024-12-15T03:20:35.677Z"
   },
   {
    "duration": 3,
    "start_time": "2024-12-15T03:21:05.880Z"
   },
   {
    "duration": 24,
    "start_time": "2024-12-15T03:21:06.598Z"
   },
   {
    "duration": 14,
    "start_time": "2024-12-15T03:24:52.394Z"
   },
   {
    "duration": 18,
    "start_time": "2024-12-15T03:25:05.193Z"
   },
   {
    "duration": 2,
    "start_time": "2024-12-15T03:25:48.929Z"
   },
   {
    "duration": 3,
    "start_time": "2024-12-15T03:27:29.373Z"
   },
   {
    "duration": 170,
    "start_time": "2024-12-15T03:27:30.398Z"
   },
   {
    "duration": 42,
    "start_time": "2024-12-15T03:30:26.322Z"
   },
   {
    "duration": 6,
    "start_time": "2024-12-15T03:30:36.542Z"
   },
   {
    "duration": 6,
    "start_time": "2024-12-15T03:30:53.974Z"
   },
   {
    "duration": 42,
    "start_time": "2024-12-15T03:31:18.547Z"
   },
   {
    "duration": 6,
    "start_time": "2024-12-15T03:31:38.004Z"
   },
   {
    "duration": 7,
    "start_time": "2024-12-15T03:32:08.928Z"
   },
   {
    "duration": 8,
    "start_time": "2024-12-15T03:32:22.035Z"
   },
   {
    "duration": 3,
    "start_time": "2024-12-15T03:32:34.734Z"
   },
   {
    "duration": 271,
    "start_time": "2024-12-15T03:32:37.554Z"
   },
   {
    "duration": 7,
    "start_time": "2024-12-15T03:37:15.811Z"
   },
   {
    "duration": 372,
    "start_time": "2024-12-15T03:37:55.489Z"
   },
   {
    "duration": 3,
    "start_time": "2024-12-15T03:40:14.565Z"
   },
   {
    "duration": 276,
    "start_time": "2024-12-15T03:40:15.949Z"
   },
   {
    "duration": 342,
    "start_time": "2024-12-15T03:40:16.371Z"
   },
   {
    "duration": 20,
    "start_time": "2024-12-15T03:41:51.522Z"
   },
   {
    "duration": 2897,
    "start_time": "2024-12-16T14:45:55.052Z"
   },
   {
    "duration": 3,
    "start_time": "2024-12-16T14:54:16.554Z"
   },
   {
    "duration": 254,
    "start_time": "2024-12-16T14:54:17.817Z"
   },
   {
    "duration": 2391,
    "start_time": "2024-12-16T14:54:27.410Z"
   },
   {
    "duration": 972,
    "start_time": "2024-12-16T14:54:29.803Z"
   },
   {
    "duration": 13,
    "start_time": "2024-12-16T14:54:30.777Z"
   },
   {
    "duration": 3,
    "start_time": "2024-12-16T14:54:30.792Z"
   },
   {
    "duration": 10,
    "start_time": "2024-12-16T14:54:30.797Z"
   },
   {
    "duration": 8,
    "start_time": "2024-12-16T14:54:30.809Z"
   },
   {
    "duration": 13,
    "start_time": "2024-12-16T14:54:30.819Z"
   },
   {
    "duration": 7,
    "start_time": "2024-12-16T14:54:30.834Z"
   },
   {
    "duration": 5,
    "start_time": "2024-12-16T14:54:30.843Z"
   },
   {
    "duration": 5,
    "start_time": "2024-12-16T14:54:30.852Z"
   },
   {
    "duration": 113,
    "start_time": "2024-12-16T14:54:30.859Z"
   },
   {
    "duration": 7,
    "start_time": "2024-12-16T14:54:30.974Z"
   },
   {
    "duration": 6,
    "start_time": "2024-12-16T14:54:30.982Z"
   },
   {
    "duration": 111,
    "start_time": "2024-12-16T14:54:30.990Z"
   },
   {
    "duration": 6,
    "start_time": "2024-12-16T14:54:31.103Z"
   },
   {
    "duration": 93,
    "start_time": "2024-12-16T14:54:31.111Z"
   },
   {
    "duration": 5,
    "start_time": "2024-12-16T14:54:31.206Z"
   },
   {
    "duration": 2575,
    "start_time": "2024-12-16T14:54:31.213Z"
   },
   {
    "duration": 2,
    "start_time": "2024-12-16T14:54:33.790Z"
   },
   {
    "duration": 4,
    "start_time": "2024-12-16T14:54:33.794Z"
   },
   {
    "duration": 9,
    "start_time": "2024-12-16T14:54:33.799Z"
   },
   {
    "duration": 9,
    "start_time": "2024-12-16T14:54:33.809Z"
   },
   {
    "duration": 16,
    "start_time": "2024-12-16T14:54:33.832Z"
   },
   {
    "duration": 13,
    "start_time": "2024-12-16T14:54:33.850Z"
   },
   {
    "duration": 19,
    "start_time": "2024-12-16T14:54:33.865Z"
   },
   {
    "duration": 20,
    "start_time": "2024-12-16T14:54:33.886Z"
   },
   {
    "duration": 24,
    "start_time": "2024-12-16T14:54:33.908Z"
   },
   {
    "duration": 6,
    "start_time": "2024-12-16T14:54:33.936Z"
   },
   {
    "duration": 3,
    "start_time": "2024-12-16T14:54:33.944Z"
   },
   {
    "duration": 4,
    "start_time": "2024-12-16T14:54:33.949Z"
   },
   {
    "duration": 19,
    "start_time": "2024-12-16T14:54:33.955Z"
   },
   {
    "duration": 8,
    "start_time": "2024-12-16T14:54:33.976Z"
   },
   {
    "duration": 3,
    "start_time": "2024-12-16T14:54:33.986Z"
   },
   {
    "duration": 326,
    "start_time": "2024-12-16T14:54:33.991Z"
   },
   {
    "duration": 391,
    "start_time": "2024-12-16T14:54:34.319Z"
   },
   {
    "duration": 7,
    "start_time": "2024-12-16T14:54:34.712Z"
   },
   {
    "duration": 0,
    "start_time": "2024-12-16T14:54:34.721Z"
   },
   {
    "duration": 0,
    "start_time": "2024-12-16T14:54:34.722Z"
   },
   {
    "duration": 0,
    "start_time": "2024-12-16T14:54:34.722Z"
   },
   {
    "duration": 0,
    "start_time": "2024-12-16T14:54:34.723Z"
   },
   {
    "duration": 0,
    "start_time": "2024-12-16T14:54:34.723Z"
   },
   {
    "duration": 4,
    "start_time": "2024-12-16T17:16:54.459Z"
   },
   {
    "duration": 3,
    "start_time": "2024-12-16T17:16:56.814Z"
   },
   {
    "duration": 393,
    "start_time": "2024-12-16T17:17:13.751Z"
   },
   {
    "duration": 4,
    "start_time": "2024-12-16T17:17:33.371Z"
   },
   {
    "duration": 95,
    "start_time": "2024-12-16T17:17:36.240Z"
   },
   {
    "duration": 4,
    "start_time": "2024-12-16T17:17:53.042Z"
   },
   {
    "duration": 54,
    "start_time": "2024-12-16T17:17:55.183Z"
   },
   {
    "duration": 4,
    "start_time": "2024-12-16T17:18:17.655Z"
   },
   {
    "duration": 27,
    "start_time": "2024-12-16T17:18:20.096Z"
   },
   {
    "duration": 3,
    "start_time": "2024-12-16T17:18:42.806Z"
   },
   {
    "duration": 3,
    "start_time": "2024-12-16T17:18:53.656Z"
   },
   {
    "duration": 8,
    "start_time": "2024-12-16T17:18:55.907Z"
   },
   {
    "duration": 4,
    "start_time": "2024-12-16T17:19:45.469Z"
   },
   {
    "duration": 7,
    "start_time": "2024-12-16T17:19:47.521Z"
   },
   {
    "duration": 3,
    "start_time": "2024-12-16T17:31:06.528Z"
   },
   {
    "duration": 35,
    "start_time": "2024-12-16T17:31:09.919Z"
   },
   {
    "duration": 3,
    "start_time": "2024-12-16T17:31:39.820Z"
   },
   {
    "duration": 238,
    "start_time": "2024-12-16T17:31:42.072Z"
   },
   {
    "duration": 4,
    "start_time": "2024-12-16T17:37:57.066Z"
   },
   {
    "duration": 8,
    "start_time": "2024-12-16T17:38:00.141Z"
   },
   {
    "duration": 3,
    "start_time": "2024-12-16T17:39:17.349Z"
   },
   {
    "duration": 14,
    "start_time": "2024-12-16T17:39:19.613Z"
   },
   {
    "duration": 3,
    "start_time": "2024-12-16T17:50:35.655Z"
   },
   {
    "duration": 11,
    "start_time": "2024-12-16T17:50:38.726Z"
   },
   {
    "duration": 2,
    "start_time": "2024-12-16T17:57:17.579Z"
   },
   {
    "duration": 23,
    "start_time": "2024-12-16T18:01:05.934Z"
   },
   {
    "duration": 14,
    "start_time": "2024-12-16T18:01:26.721Z"
   },
   {
    "duration": 183,
    "start_time": "2024-12-16T19:55:39.707Z"
   },
   {
    "duration": 14,
    "start_time": "2024-12-16T19:56:00.446Z"
   },
   {
    "duration": 2463,
    "start_time": "2024-12-16T19:56:07.886Z"
   },
   {
    "duration": 2692,
    "start_time": "2024-12-16T19:56:10.352Z"
   },
   {
    "duration": 10,
    "start_time": "2024-12-16T19:56:13.046Z"
   },
   {
    "duration": 5,
    "start_time": "2024-12-16T19:56:13.058Z"
   },
   {
    "duration": 11,
    "start_time": "2024-12-16T19:56:13.065Z"
   },
   {
    "duration": 9,
    "start_time": "2024-12-16T19:56:13.077Z"
   },
   {
    "duration": 22,
    "start_time": "2024-12-16T19:56:13.088Z"
   },
   {
    "duration": 8,
    "start_time": "2024-12-16T19:56:13.112Z"
   },
   {
    "duration": 5,
    "start_time": "2024-12-16T19:56:13.122Z"
   },
   {
    "duration": 7,
    "start_time": "2024-12-16T19:56:13.128Z"
   },
   {
    "duration": 114,
    "start_time": "2024-12-16T19:56:13.137Z"
   },
   {
    "duration": 6,
    "start_time": "2024-12-16T19:56:13.253Z"
   },
   {
    "duration": 6,
    "start_time": "2024-12-16T19:56:13.261Z"
   },
   {
    "duration": 178,
    "start_time": "2024-12-16T19:56:13.270Z"
   },
   {
    "duration": 7,
    "start_time": "2024-12-16T19:56:13.449Z"
   },
   {
    "duration": 96,
    "start_time": "2024-12-16T19:56:13.458Z"
   },
   {
    "duration": 6,
    "start_time": "2024-12-16T19:56:13.555Z"
   },
   {
    "duration": 2632,
    "start_time": "2024-12-16T19:56:13.562Z"
   },
   {
    "duration": 2,
    "start_time": "2024-12-16T19:56:16.196Z"
   },
   {
    "duration": 9,
    "start_time": "2024-12-16T19:56:16.200Z"
   },
   {
    "duration": 9,
    "start_time": "2024-12-16T19:56:16.210Z"
   },
   {
    "duration": 8,
    "start_time": "2024-12-16T19:56:16.221Z"
   },
   {
    "duration": 13,
    "start_time": "2024-12-16T19:56:16.230Z"
   },
   {
    "duration": 13,
    "start_time": "2024-12-16T19:56:16.244Z"
   },
   {
    "duration": 51,
    "start_time": "2024-12-16T19:56:16.259Z"
   },
   {
    "duration": 22,
    "start_time": "2024-12-16T19:56:16.312Z"
   },
   {
    "duration": 3,
    "start_time": "2024-12-16T19:56:16.336Z"
   },
   {
    "duration": 4,
    "start_time": "2024-12-16T19:56:16.342Z"
   },
   {
    "duration": 3,
    "start_time": "2024-12-16T19:56:16.348Z"
   },
   {
    "duration": 3,
    "start_time": "2024-12-16T19:56:16.353Z"
   },
   {
    "duration": 52,
    "start_time": "2024-12-16T19:56:16.358Z"
   },
   {
    "duration": 8,
    "start_time": "2024-12-16T19:56:16.412Z"
   },
   {
    "duration": 3,
    "start_time": "2024-12-16T19:56:16.421Z"
   },
   {
    "duration": 321,
    "start_time": "2024-12-16T19:56:16.426Z"
   },
   {
    "duration": 377,
    "start_time": "2024-12-16T19:56:16.749Z"
   },
   {
    "duration": 4,
    "start_time": "2024-12-16T19:56:17.128Z"
   },
   {
    "duration": 5,
    "start_time": "2024-12-16T19:56:17.134Z"
   },
   {
    "duration": 12,
    "start_time": "2024-12-16T19:56:17.141Z"
   },
   {
    "duration": 61,
    "start_time": "2024-12-16T19:56:17.157Z"
   },
   {
    "duration": 8,
    "start_time": "2024-12-16T19:56:17.220Z"
   },
   {
    "duration": 4,
    "start_time": "2024-12-16T19:56:17.234Z"
   },
   {
    "duration": 68,
    "start_time": "2024-12-16T19:56:17.242Z"
   },
   {
    "duration": 258,
    "start_time": "2024-12-16T20:29:20.615Z"
   },
   {
    "duration": 17,
    "start_time": "2024-12-16T20:29:35.760Z"
   },
   {
    "duration": 4,
    "start_time": "2024-12-16T21:09:30.106Z"
   },
   {
    "duration": 4,
    "start_time": "2024-12-16T21:09:45.331Z"
   },
   {
    "duration": 4,
    "start_time": "2024-12-16T21:11:52.443Z"
   },
   {
    "duration": 9,
    "start_time": "2024-12-16T21:12:08.418Z"
   },
   {
    "duration": 4,
    "start_time": "2024-12-16T21:15:45.001Z"
   },
   {
    "duration": 14,
    "start_time": "2024-12-16T21:16:34.149Z"
   },
   {
    "duration": 4,
    "start_time": "2024-12-16T21:16:41.522Z"
   },
   {
    "duration": 4,
    "start_time": "2024-12-16T21:17:29.050Z"
   },
   {
    "duration": 4,
    "start_time": "2024-12-16T21:32:15.523Z"
   },
   {
    "duration": 4,
    "start_time": "2024-12-16T21:38:24.581Z"
   },
   {
    "duration": 4,
    "start_time": "2024-12-16T21:38:37.685Z"
   },
   {
    "duration": 3,
    "start_time": "2024-12-16T21:39:06.977Z"
   },
   {
    "duration": 3,
    "start_time": "2024-12-16T21:39:15.368Z"
   },
   {
    "duration": 4,
    "start_time": "2024-12-16T21:39:16.703Z"
   },
   {
    "duration": 3,
    "start_time": "2024-12-16T21:40:25.626Z"
   },
   {
    "duration": 5,
    "start_time": "2024-12-16T21:40:30.942Z"
   },
   {
    "duration": 5,
    "start_time": "2024-12-16T21:42:57.169Z"
   },
   {
    "duration": 5,
    "start_time": "2024-12-16T21:43:29.938Z"
   },
   {
    "duration": 5,
    "start_time": "2024-12-16T21:43:37.516Z"
   },
   {
    "duration": 5,
    "start_time": "2024-12-16T21:43:52.988Z"
   },
   {
    "duration": 5,
    "start_time": "2024-12-16T21:44:55.545Z"
   },
   {
    "duration": 4,
    "start_time": "2024-12-16T21:45:03.334Z"
   },
   {
    "duration": 4,
    "start_time": "2024-12-16T21:50:38.077Z"
   },
   {
    "duration": 7,
    "start_time": "2024-12-16T21:55:26.029Z"
   },
   {
    "duration": 4,
    "start_time": "2024-12-16T21:56:19.295Z"
   },
   {
    "duration": 361,
    "start_time": "2024-12-16T21:57:39.970Z"
   },
   {
    "duration": 8,
    "start_time": "2024-12-16T21:58:26.873Z"
   },
   {
    "duration": 12,
    "start_time": "2024-12-16T22:00:29.967Z"
   },
   {
    "duration": 13,
    "start_time": "2024-12-16T22:02:23.417Z"
   },
   {
    "duration": 10,
    "start_time": "2024-12-16T22:03:10.828Z"
   },
   {
    "duration": 10,
    "start_time": "2024-12-16T22:03:44.625Z"
   },
   {
    "duration": 3,
    "start_time": "2024-12-17T01:24:01.714Z"
   },
   {
    "duration": 4,
    "start_time": "2024-12-17T01:25:02.793Z"
   },
   {
    "duration": 16,
    "start_time": "2024-12-17T01:26:47.270Z"
   },
   {
    "duration": 9,
    "start_time": "2024-12-17T01:28:07.111Z"
   },
   {
    "duration": 4,
    "start_time": "2024-12-17T01:28:30.211Z"
   },
   {
    "duration": 10,
    "start_time": "2024-12-17T01:28:31.526Z"
   },
   {
    "duration": 6,
    "start_time": "2024-12-17T01:28:33.895Z"
   },
   {
    "duration": 8,
    "start_time": "2024-12-17T01:29:49.470Z"
   },
   {
    "duration": 8,
    "start_time": "2024-12-17T01:57:33.907Z"
   },
   {
    "duration": 4,
    "start_time": "2024-12-17T01:58:48.665Z"
   },
   {
    "duration": 7,
    "start_time": "2024-12-17T01:58:54.996Z"
   },
   {
    "duration": 3,
    "start_time": "2024-12-17T02:04:19.820Z"
   },
   {
    "duration": 2325,
    "start_time": "2024-12-17T23:57:55.752Z"
   },
   {
    "duration": 2724,
    "start_time": "2024-12-17T23:57:58.079Z"
   },
   {
    "duration": 14,
    "start_time": "2024-12-17T23:58:00.805Z"
   },
   {
    "duration": 3,
    "start_time": "2024-12-17T23:58:00.821Z"
   },
   {
    "duration": 18,
    "start_time": "2024-12-17T23:58:00.826Z"
   },
   {
    "duration": 9,
    "start_time": "2024-12-17T23:58:00.847Z"
   },
   {
    "duration": 3,
    "start_time": "2024-12-17T23:58:00.858Z"
   },
   {
    "duration": 7,
    "start_time": "2024-12-17T23:58:00.863Z"
   },
   {
    "duration": 5,
    "start_time": "2024-12-17T23:58:00.872Z"
   },
   {
    "duration": 7,
    "start_time": "2024-12-17T23:58:00.878Z"
   },
   {
    "duration": 119,
    "start_time": "2024-12-17T23:58:00.886Z"
   },
   {
    "duration": 8,
    "start_time": "2024-12-17T23:58:01.007Z"
   },
   {
    "duration": 27,
    "start_time": "2024-12-17T23:58:01.017Z"
   },
   {
    "duration": 153,
    "start_time": "2024-12-17T23:58:01.049Z"
   },
   {
    "duration": 7,
    "start_time": "2024-12-17T23:58:01.204Z"
   },
   {
    "duration": 98,
    "start_time": "2024-12-17T23:58:01.213Z"
   },
   {
    "duration": 5,
    "start_time": "2024-12-17T23:58:01.313Z"
   },
   {
    "duration": 2612,
    "start_time": "2024-12-17T23:58:01.319Z"
   },
   {
    "duration": 3,
    "start_time": "2024-12-17T23:58:03.933Z"
   },
   {
    "duration": 4,
    "start_time": "2024-12-17T23:58:03.938Z"
   },
   {
    "duration": 9,
    "start_time": "2024-12-17T23:58:03.943Z"
   },
   {
    "duration": 8,
    "start_time": "2024-12-17T23:58:03.953Z"
   },
   {
    "duration": 13,
    "start_time": "2024-12-17T23:58:03.962Z"
   },
   {
    "duration": 12,
    "start_time": "2024-12-17T23:58:03.976Z"
   },
   {
    "duration": 20,
    "start_time": "2024-12-17T23:58:03.990Z"
   },
   {
    "duration": 45,
    "start_time": "2024-12-17T23:58:04.012Z"
   },
   {
    "duration": 3,
    "start_time": "2024-12-17T23:58:04.059Z"
   },
   {
    "duration": 5,
    "start_time": "2024-12-17T23:58:04.064Z"
   },
   {
    "duration": 3,
    "start_time": "2024-12-17T23:58:04.071Z"
   },
   {
    "duration": 3,
    "start_time": "2024-12-17T23:58:04.076Z"
   },
   {
    "duration": 19,
    "start_time": "2024-12-17T23:58:04.080Z"
   },
   {
    "duration": 7,
    "start_time": "2024-12-17T23:58:04.100Z"
   },
   {
    "duration": 35,
    "start_time": "2024-12-17T23:58:04.108Z"
   },
   {
    "duration": 298,
    "start_time": "2024-12-17T23:58:04.145Z"
   },
   {
    "duration": 364,
    "start_time": "2024-12-17T23:58:04.444Z"
   },
   {
    "duration": 3,
    "start_time": "2024-12-17T23:58:04.811Z"
   },
   {
    "duration": 3,
    "start_time": "2024-12-17T23:58:04.816Z"
   },
   {
    "duration": 25,
    "start_time": "2024-12-17T23:58:04.820Z"
   },
   {
    "duration": 7,
    "start_time": "2024-12-17T23:58:04.846Z"
   },
   {
    "duration": 3,
    "start_time": "2024-12-17T23:58:04.855Z"
   },
   {
    "duration": 3,
    "start_time": "2024-12-17T23:58:04.943Z"
   },
   {
    "duration": 2,
    "start_time": "2024-12-17T23:58:04.948Z"
   },
   {
    "duration": 5,
    "start_time": "2024-12-17T23:58:04.952Z"
   },
   {
    "duration": 4,
    "start_time": "2024-12-17T23:58:04.959Z"
   },
   {
    "duration": 81,
    "start_time": "2024-12-17T23:58:04.964Z"
   },
   {
    "duration": 12,
    "start_time": "2024-12-17T23:58:05.047Z"
   },
   {
    "duration": 3,
    "start_time": "2024-12-17T23:58:05.060Z"
   },
   {
    "duration": 80,
    "start_time": "2024-12-17T23:58:05.065Z"
   },
   {
    "duration": 7,
    "start_time": "2024-12-17T23:58:05.147Z"
   }
  ],
  "kernelspec": {
   "display_name": "Python 3 (ipykernel)",
   "language": "python",
   "name": "python3"
  },
  "language_info": {
   "codemirror_mode": {
    "name": "ipython",
    "version": 3
   },
   "file_extension": ".py",
   "mimetype": "text/x-python",
   "name": "python",
   "nbconvert_exporter": "python",
   "pygments_lexer": "ipython3",
   "version": "3.9.19"
  },
  "toc": {
   "base_numbering": 1,
   "nav_menu": {},
   "number_sections": true,
   "sideBar": true,
   "skip_h1_title": true,
   "title_cell": "Table of Contents",
   "title_sidebar": "Contents",
   "toc_cell": false,
   "toc_position": {
    "height": "calc(100% - 180px)",
    "left": "10px",
    "top": "150px",
    "width": "165px"
   },
   "toc_section_display": true,
   "toc_window_display": true
  }
 },
 "nbformat": 4,
 "nbformat_minor": 4
}
